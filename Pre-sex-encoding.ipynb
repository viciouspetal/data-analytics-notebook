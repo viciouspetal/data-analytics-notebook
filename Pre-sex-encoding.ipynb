{
 "cells": [
  {
   "cell_type": "code",
   "execution_count": 1,
   "metadata": {},
   "outputs": [],
   "source": [
    "#  to present any diagrams inline with the rest of the notebook as opposed to in new browser window\n",
    "%matplotlib inline \n",
    "\n",
    "# importing necessary modules\n",
    "import pandas as pd\n",
    "import seaborn as sb\n",
    "import matplotlib.pyplot as plt\n",
    "import numpy as np\n",
    "from sklearn.dummy import DummyRegressor\n",
    "from sklearn.linear_model import LinearRegression\n",
    "from sklearn.metrics import mean_absolute_error\n",
    "from scipy.stats import norm\n",
    "from scipy import stats, integrate\n",
    "from sklearn.model_selection import GridSearchCV, KFold, cross_val_predict, cross_val_score\n",
    "\n",
    "\n",
    "path_to_csv = \"data/abalone.csv\"\n",
    "default_figure_out_path = 'figs/'\n",
    "default_figure_ext = '.png'"
   ]
  },
  {
   "cell_type": "code",
   "execution_count": 2,
   "metadata": {},
   "outputs": [],
   "source": [
    "df = pd.read_csv(path_to_csv, names=['sex', 'length', 'diameter', 'height', 'whole_weight', 'shucked_weight','viscera_weight', 'shell_weight','rings'], header=None)"
   ]
  },
  {
   "cell_type": "code",
   "execution_count": 3,
   "metadata": {},
   "outputs": [],
   "source": [
    "df['rings'] = pd.to_numeric(df['rings'], errors='coerce')\n",
    "nan_error = df.isnull().any(axis=1)\n",
    "below_or_zero=df[df <= 0.0 ].count()\n",
    "error_diameter=df['diameter'] <= 0.0\n",
    "error_height = df['height'] <= 0.0\n",
    "shucked_error =df['shucked_weight'] > df['whole_weight']\n",
    "df[shucked_error]\n",
    "df[df['viscera_weight'] > df['whole_weight']]\n",
    "shell_error = df['shell_weight'] > df['whole_weight']\n",
    "df.drop(df.index[(shucked_error) | (error_diameter) | (error_height) | (nan_error)], inplace=True)"
   ]
  },
  {
   "cell_type": "code",
   "execution_count": 4,
   "metadata": {},
   "outputs": [
    {
     "data": {
      "text/plain": [
       "(278, sex               3888\n",
       " length            3888\n",
       " diameter          3888\n",
       " height            3888\n",
       " whole_weight      3888\n",
       " shucked_weight    3888\n",
       " viscera_weight    3888\n",
       " shell_weight      3888\n",
       " rings             3888\n",
       " dtype: int64)"
      ]
     },
     "execution_count": 4,
     "metadata": {},
     "output_type": "execute_result"
    }
   ],
   "source": [
    "q1 = df['rings'].quantile(0.25)\n",
    "q3 = df['rings'].quantile(0.75)\n",
    "iqr = q3 - q1\n",
    "lw = q1 - 1.5 * iqr\n",
    "uw = q3 + 1.5 * iqr\n",
    "q1, q3, iqr, lw, uw\n",
    "\n",
    "outliers = (df['rings'] < lw) | (df['rings'] > uw) #6.67 % of the dataset\n",
    "pre_outliers_removal_df_count = df['sex'].count()\n",
    "df['rings'][~outliers].count()\n",
    "removed_rings = df['rings'][outliers]\n",
    "df.drop(df.index[outliers], inplace=True)\n",
    "removed_rings.count(), df.count()"
   ]
  },
  {
   "cell_type": "code",
   "execution_count": 5,
   "metadata": {},
   "outputs": [
    {
     "data": {
      "text/plain": [
       "(31, sex               3857\n",
       " length            3857\n",
       " diameter          3857\n",
       " height            3857\n",
       " whole_weight      3857\n",
       " shucked_weight    3857\n",
       " viscera_weight    3857\n",
       " shell_weight      3857\n",
       " rings             3857\n",
       " dtype: int64)"
      ]
     },
     "execution_count": 5,
     "metadata": {},
     "output_type": "execute_result"
    }
   ],
   "source": [
    "q1 = df['whole_weight'].quantile(0.25)\n",
    "q3 = df['whole_weight'].quantile(0.75)\n",
    "iqr = q3 - q1\n",
    "lw = q1 - 1.5 * iqr\n",
    "\n",
    "uw = q3 + 1.5 * iqr\n",
    "#q1, q3, iqr, lw, uw\n",
    "outliers = (df['whole_weight'] < lw) | (df['whole_weight'] > uw)\n",
    "df['whole_weight'][outliers].count()\n",
    "removed_whole_weight = df['whole_weight'][outliers]\n",
    "df.drop(df.index[outliers], inplace=True)\n",
    "removed_whole_weight.count(),df.count()"
   ]
  },
  {
   "cell_type": "code",
   "execution_count": 6,
   "metadata": {},
   "outputs": [
    {
     "data": {
      "text/plain": [
       "(30, sex               3827\n",
       " length            3827\n",
       " diameter          3827\n",
       " height            3827\n",
       " whole_weight      3827\n",
       " shucked_weight    3827\n",
       " viscera_weight    3827\n",
       " shell_weight      3827\n",
       " rings             3827\n",
       " dtype: int64)"
      ]
     },
     "execution_count": 6,
     "metadata": {},
     "output_type": "execute_result"
    }
   ],
   "source": [
    "q1 = df['length'].quantile(0.25)\n",
    "q3 = df['length'].quantile(0.75)\n",
    "iqr = q3 - q1\n",
    "lw = q1 - 1.5 * iqr\n",
    "\n",
    "uw = q3 + 1.5 * iqr\n",
    "#q1, q3, iqr, lw, uw\n",
    "outliers = (df['length'] < lw) | (df['length'] > uw)\n",
    "df['length'][outliers].count()\n",
    "removed_length = df['length'][outliers]\n",
    "df.drop(df.index[outliers], inplace=True)\n",
    "removed_length.count(), df.count()"
   ]
  },
  {
   "cell_type": "code",
   "execution_count": 7,
   "metadata": {},
   "outputs": [
    {
     "data": {
      "text/plain": [
       "(7, sex               3820\n",
       " length            3820\n",
       " diameter          3820\n",
       " height            3820\n",
       " whole_weight      3820\n",
       " shucked_weight    3820\n",
       " viscera_weight    3820\n",
       " shell_weight      3820\n",
       " rings             3820\n",
       " dtype: int64)"
      ]
     },
     "execution_count": 7,
     "metadata": {},
     "output_type": "execute_result"
    }
   ],
   "source": [
    "q1 = df['diameter'].quantile(0.25)\n",
    "q3 = df['diameter'].quantile(0.75)\n",
    "iqr = q3 - q1\n",
    "lw = q1 - 1.5 * iqr\n",
    "\n",
    "uw = q3 + 1.5 * iqr\n",
    "#q1, q3, iqr, lw, uw\n",
    "outliers = (df['diameter'] < lw) | (df['diameter'] > uw)\n",
    "df['diameter'][outliers].count()\n",
    "removed_diameter = df['diameter'][outliers]\n",
    "df.drop(df.index[outliers], inplace=True)\n",
    "removed_diameter.count(), df.count()"
   ]
  },
  {
   "cell_type": "code",
   "execution_count": 8,
   "metadata": {},
   "outputs": [
    {
     "data": {
      "text/plain": [
       "(3, sex               3817\n",
       " length            3817\n",
       " diameter          3817\n",
       " height            3817\n",
       " whole_weight      3817\n",
       " shucked_weight    3817\n",
       " viscera_weight    3817\n",
       " shell_weight      3817\n",
       " rings             3817\n",
       " dtype: int64)"
      ]
     },
     "execution_count": 8,
     "metadata": {},
     "output_type": "execute_result"
    }
   ],
   "source": [
    "q1 = df['height'].quantile(0.25)\n",
    "q3 = df['height'].quantile(0.75)\n",
    "iqr = q3 - q1\n",
    "lw = q1 - 1.5 * iqr\n",
    "\n",
    "uw = q3 + 1.5 * iqr\n",
    "#q1, q3, iqr, lw, uw\n",
    "outliers = (df['height'] < lw) | (df['height'] > uw)\n",
    "df['height'][outliers].count()\n",
    "removed_height = df['height'][outliers]\n",
    "df.drop(df.index[outliers], inplace=True)\n",
    "removed_height.count(), df.count()"
   ]
  },
  {
   "cell_type": "code",
   "execution_count": 9,
   "metadata": {},
   "outputs": [
    {
     "data": {
      "text/plain": [
       "(20, sex               3797\n",
       " length            3797\n",
       " diameter          3797\n",
       " height            3797\n",
       " whole_weight      3797\n",
       " shucked_weight    3797\n",
       " viscera_weight    3797\n",
       " shell_weight      3797\n",
       " rings             3797\n",
       " dtype: int64)"
      ]
     },
     "execution_count": 9,
     "metadata": {},
     "output_type": "execute_result"
    }
   ],
   "source": [
    "q1 = df['shucked_weight'].quantile(0.25)\n",
    "q3 = df['shucked_weight'].quantile(0.75)\n",
    "iqr = q3 - q1\n",
    "lw = q1 - 1.5 * iqr\n",
    "\n",
    "uw = q3 + 1.5 * iqr\n",
    "#q1, q3, iqr, lw, uw\n",
    "outliers = (df['shucked_weight'] < lw) | (df['shucked_weight'] > uw)\n",
    "df['shucked_weight'][outliers].count()\n",
    "removed_shucked_weight = df['shucked_weight'][outliers]\n",
    "df.drop(df.index[outliers], inplace=True)\n",
    "removed_shucked_weight.count(), df.count()"
   ]
  },
  {
   "cell_type": "code",
   "execution_count": 10,
   "metadata": {},
   "outputs": [
    {
     "data": {
      "text/plain": [
       "(16, sex               3781\n",
       " length            3781\n",
       " diameter          3781\n",
       " height            3781\n",
       " whole_weight      3781\n",
       " shucked_weight    3781\n",
       " viscera_weight    3781\n",
       " shell_weight      3781\n",
       " rings             3781\n",
       " dtype: int64)"
      ]
     },
     "execution_count": 10,
     "metadata": {},
     "output_type": "execute_result"
    }
   ],
   "source": [
    "q1 = df['viscera_weight'].quantile(0.25)\n",
    "q3 = df['viscera_weight'].quantile(0.75)\n",
    "iqr = q3 - q1\n",
    "lw = q1 - 1.5 * iqr\n",
    "\n",
    "uw = q3 + 1.5 * iqr\n",
    "#q1, q3, iqr, lw, uw\n",
    "outliers = (df['viscera_weight'] < lw) | (df['viscera_weight'] > uw)\n",
    "df['viscera_weight'][outliers].count()\n",
    "removed_viscera_weight = df['viscera_weight'][outliers]\n",
    "df.drop(df.index[outliers], inplace=True)\n",
    "removed_viscera_weight.count(), df.count()"
   ]
  },
  {
   "cell_type": "code",
   "execution_count": 11,
   "metadata": {},
   "outputs": [
    {
     "data": {
      "text/plain": [
       "(11, sex               3770\n",
       " length            3770\n",
       " diameter          3770\n",
       " height            3770\n",
       " whole_weight      3770\n",
       " shucked_weight    3770\n",
       " viscera_weight    3770\n",
       " shell_weight      3770\n",
       " rings             3770\n",
       " dtype: int64)"
      ]
     },
     "execution_count": 11,
     "metadata": {},
     "output_type": "execute_result"
    }
   ],
   "source": [
    "q1 = df['shell_weight'].quantile(0.25)\n",
    "q3 = df['shell_weight'].quantile(0.75)\n",
    "iqr = q3 - q1\n",
    "lw = q1 - 1.5 * iqr\n",
    "\n",
    "uw = q3 + 1.5 * iqr\n",
    "#q1, q3, iqr, lw, uw\n",
    "outliers = (df['shell_weight'] < lw) | (df['shell_weight'] > uw)\n",
    "df['shell_weight'][outliers].count()\n",
    "removed_shell_weight = df['shell_weight'][outliers]\n",
    "df.drop(df.index[outliers], inplace=True)\n",
    "removed_shell_weight.count(), df.count()"
   ]
  },
  {
   "cell_type": "code",
   "execution_count": 12,
   "metadata": {},
   "outputs": [
    {
     "data": {
      "text/html": [
       "<div>\n",
       "<style scoped>\n",
       "    .dataframe tbody tr th:only-of-type {\n",
       "        vertical-align: middle;\n",
       "    }\n",
       "\n",
       "    .dataframe tbody tr th {\n",
       "        vertical-align: top;\n",
       "    }\n",
       "\n",
       "    .dataframe thead th {\n",
       "        text-align: right;\n",
       "    }\n",
       "</style>\n",
       "<table border=\"1\" class=\"dataframe\">\n",
       "  <thead>\n",
       "    <tr style=\"text-align: right;\">\n",
       "      <th></th>\n",
       "      <th>sex</th>\n",
       "      <th>length</th>\n",
       "      <th>diameter</th>\n",
       "      <th>height</th>\n",
       "      <th>whole_weight</th>\n",
       "      <th>shucked_weight</th>\n",
       "      <th>viscera_weight</th>\n",
       "      <th>shell_weight</th>\n",
       "      <th>rings</th>\n",
       "    </tr>\n",
       "  </thead>\n",
       "  <tbody>\n",
       "    <tr>\n",
       "      <th>0</th>\n",
       "      <td>M</td>\n",
       "      <td>0.455</td>\n",
       "      <td>0.365</td>\n",
       "      <td>0.095</td>\n",
       "      <td>0.5140</td>\n",
       "      <td>0.2245</td>\n",
       "      <td>0.1010</td>\n",
       "      <td>0.150</td>\n",
       "      <td>15.0</td>\n",
       "    </tr>\n",
       "    <tr>\n",
       "      <th>1</th>\n",
       "      <td>M</td>\n",
       "      <td>0.350</td>\n",
       "      <td>0.265</td>\n",
       "      <td>0.090</td>\n",
       "      <td>0.2255</td>\n",
       "      <td>0.0995</td>\n",
       "      <td>0.0485</td>\n",
       "      <td>0.070</td>\n",
       "      <td>7.0</td>\n",
       "    </tr>\n",
       "    <tr>\n",
       "      <th>2</th>\n",
       "      <td>F</td>\n",
       "      <td>0.530</td>\n",
       "      <td>0.420</td>\n",
       "      <td>0.135</td>\n",
       "      <td>0.6770</td>\n",
       "      <td>0.2565</td>\n",
       "      <td>0.1415</td>\n",
       "      <td>0.210</td>\n",
       "      <td>9.0</td>\n",
       "    </tr>\n",
       "    <tr>\n",
       "      <th>3</th>\n",
       "      <td>M</td>\n",
       "      <td>0.440</td>\n",
       "      <td>0.365</td>\n",
       "      <td>0.125</td>\n",
       "      <td>0.5160</td>\n",
       "      <td>0.2155</td>\n",
       "      <td>0.1140</td>\n",
       "      <td>0.155</td>\n",
       "      <td>10.0</td>\n",
       "    </tr>\n",
       "    <tr>\n",
       "      <th>4</th>\n",
       "      <td>I</td>\n",
       "      <td>0.330</td>\n",
       "      <td>0.255</td>\n",
       "      <td>0.080</td>\n",
       "      <td>0.2050</td>\n",
       "      <td>0.0895</td>\n",
       "      <td>0.0395</td>\n",
       "      <td>0.055</td>\n",
       "      <td>7.0</td>\n",
       "    </tr>\n",
       "  </tbody>\n",
       "</table>\n",
       "</div>"
      ],
      "text/plain": [
       "  sex  length  diameter  height  whole_weight  shucked_weight  viscera_weight  \\\n",
       "0   M   0.455     0.365   0.095        0.5140          0.2245          0.1010   \n",
       "1   M   0.350     0.265   0.090        0.2255          0.0995          0.0485   \n",
       "2   F   0.530     0.420   0.135        0.6770          0.2565          0.1415   \n",
       "3   M   0.440     0.365   0.125        0.5160          0.2155          0.1140   \n",
       "4   I   0.330     0.255   0.080        0.2050          0.0895          0.0395   \n",
       "\n",
       "   shell_weight  rings  \n",
       "0         0.150   15.0  \n",
       "1         0.070    7.0  \n",
       "2         0.210    9.0  \n",
       "3         0.155   10.0  \n",
       "4         0.055    7.0  "
      ]
     },
     "execution_count": 12,
     "metadata": {},
     "output_type": "execute_result"
    }
   ],
   "source": [
    "df.head()"
   ]
  },
  {
   "cell_type": "code",
   "execution_count": 85,
   "metadata": {},
   "outputs": [
    {
     "data": {
      "text/plain": [
       "Index(['sex', 'length', 'diameter', 'height', 'whole_weight', 'shucked_weight',\n",
       "       'viscera_weight', 'shell_weight', 'rings'],\n",
       "      dtype='object')"
      ]
     },
     "execution_count": 85,
     "metadata": {},
     "output_type": "execute_result"
    }
   ],
   "source": [
    "def create_histogram(data, color, kde=False):\n",
    "    sb.set(rc={'figure.figsize':(11,8)})\n",
    "    sb.distplot(data, color=color, kde=kde)"
   ]
  },
  {
   "cell_type": "code",
   "execution_count": 73,
   "metadata": {},
   "outputs": [
    {
     "data": {
      "image/png": "[encoded data removed]",
      "text/plain": [
       "<matplotlib.figure.Figure at 0x106da9b0>"
      ]
     },
     "metadata": {},
     "output_type": "display_data"
    }
   ],
   "source": [
    "create_histogram(df[\"whole_weight\"] , color=\"skyblue\")"
   ]
  },
  {
   "cell_type": "code",
   "execution_count": 74,
   "metadata": {},
   "outputs": [
    {
     "data": {
      "image/png": "[encoded data removed]",
      "text/plain": [
       "<matplotlib.figure.Figure at 0x1040b940>"
      ]
     },
     "metadata": {},
     "output_type": "display_data"
    }
   ],
   "source": [
    "create_histogram(df[\"length\"] , color=\"olive\")"
   ]
  },
  {
   "cell_type": "code",
   "execution_count": 75,
   "metadata": {},
   "outputs": [
    {
     "data": {
      "image/png": "[encoded data removed]",
      "text/plain": [
       "<matplotlib.figure.Figure at 0xc25be80>"
      ]
     },
     "metadata": {},
     "output_type": "display_data"
    }
   ],
   "source": [
    "create_histogram( df[\"diameter\"] , color=\"gold\")"
   ]
  },
  {
   "cell_type": "code",
   "execution_count": 77,
   "metadata": {},
   "outputs": [
    {
     "data": {
      "image/png": "[encoded data removed]",
      "text/plain": [
       "<matplotlib.figure.Figure at 0xda2a3c8>"
      ]
     },
     "metadata": {},
     "output_type": "display_data"
    }
   ],
   "source": [
    "create_histogram(df['height'], color=\"teal\")"
   ]
  },
  {
   "cell_type": "code",
   "execution_count": 97,
   "metadata": {},
   "outputs": [
    {
     "data": {
      "image/png": "[encoded data removed]",
      "text/plain": [
       "<matplotlib.figure.Figure at 0x124263c8>"
      ]
     },
     "metadata": {},
     "output_type": "display_data"
    }
   ],
   "source": [
    "create_histogram(df['shucked_weight'], color='crimson')"
   ]
  },
  {
   "cell_type": "code",
   "execution_count": 87,
   "metadata": {},
   "outputs": [
    {
     "data": {
      "image/png": "[encoded data removed]",
      "text/plain": [
       "<matplotlib.figure.Figure at 0x103cb2b0>"
      ]
     },
     "metadata": {},
     "output_type": "display_data"
    }
   ],
   "source": [
    "create_histogram(df['viscera_weight'], color='darkgreen')"
   ]
  },
  {
   "cell_type": "code",
   "execution_count": 96,
   "metadata": {},
   "outputs": [
    {
     "data": {
      "image/png": "[encoded data removed]",
      "text/plain": [
       "<matplotlib.figure.Figure at 0x124383c8>"
      ]
     },
     "metadata": {},
     "output_type": "display_data"
    }
   ],
   "source": [
    "create_histogram(df['shell_weight'], color='black')"
   ]
  },
  {
   "cell_type": "code",
   "execution_count": null,
   "metadata": {},
   "outputs": [],
   "source": []
  }
 ],
 "metadata": {
  "kernelspec": {
   "display_name": "Python 3",
   "language": "python",
   "name": "python3"
  },
  "language_info": {
   "codemirror_mode": {
    "name": "ipython",
    "version": 3
   },
   "file_extension": ".py",
   "mimetype": "text/x-python",
   "name": "python",
   "nbconvert_exporter": "python",
   "pygments_lexer": "ipython3",
   "version": "3.6.4"
  }
 },
 "nbformat": 4,
 "nbformat_minor": 2
}
