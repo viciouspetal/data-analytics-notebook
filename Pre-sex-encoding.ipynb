{
 "cells": [
  {
   "cell_type": "code",
   "execution_count": 1,
   "metadata": {},
   "outputs": [],
   "source": [
    "#  to present any diagrams inline with the rest of the notebook as opposed to in new browser window\n",
    "%matplotlib inline \n",
    "\n",
    "# importing necessary modules\n",
    "import pandas as pd\n",
    "import seaborn as sb\n",
    "import matplotlib.pyplot as plt\n",
    "import numpy as np\n",
    "from sklearn.dummy import DummyRegressor\n",
    "from sklearn.linear_model import LinearRegression\n",
    "from sklearn.metrics import mean_absolute_error\n",
    "from scipy.stats import norm\n",
    "from scipy import stats, integrate\n",
    "from sklearn.model_selection import GridSearchCV, KFold, cross_val_predict, cross_val_score\n",
    "\n",
    "\n",
    "path_to_csv = \"data/abalone.csv\"\n",
    "default_figure_out_path = 'figs/'\n",
    "default_figure_ext = '.png'"
   ]
  },
  {
   "cell_type": "code",
   "execution_count": 2,
   "metadata": {},
   "outputs": [],
   "source": [
    "df = pd.read_csv(path_to_csv, names=['sex', 'length', 'diameter', 'height', 'whole_weight', 'shucked_weight','viscera_weight', 'shell_weight','rings'], header=None)"
   ]
  },
  {
   "cell_type": "code",
   "execution_count": 3,
   "metadata": {},
   "outputs": [],
   "source": [
    "df['rings'] = pd.to_numeric(df['rings'], errors='coerce')\n",
    "nan_error = df.isnull().any(axis=1)\n",
    "below_or_zero=df[df <= 0.0 ].count()\n",
    "error_diameter=df['diameter'] <= 0.0\n",
    "error_height = df['height'] <= 0.0\n",
    "shucked_error =df['shucked_weight'] > df['whole_weight']\n",
    "df[shucked_error]\n",
    "df[df['viscera_weight'] > df['whole_weight']]\n",
    "shell_error = df['shell_weight'] > df['whole_weight']\n",
    "df.drop(df.index[(shucked_error) | (error_diameter) | (error_height) | (nan_error)], inplace=True)"
   ]
  },
  {
   "cell_type": "code",
   "execution_count": 4,
   "metadata": {},
   "outputs": [
    {
     "data": {
      "text/plain": [
       "(278, sex               3888\n",
       " length            3888\n",
       " diameter          3888\n",
       " height            3888\n",
       " whole_weight      3888\n",
       " shucked_weight    3888\n",
       " viscera_weight    3888\n",
       " shell_weight      3888\n",
       " rings             3888\n",
       " dtype: int64)"
      ]
     },
     "execution_count": 4,
     "metadata": {},
     "output_type": "execute_result"
    }
   ],
   "source": [
    "q1 = df['rings'].quantile(0.25)\n",
    "q3 = df['rings'].quantile(0.75)\n",
    "iqr = q3 - q1\n",
    "lw = q1 - 1.5 * iqr\n",
    "uw = q3 + 1.5 * iqr\n",
    "q1, q3, iqr, lw, uw\n",
    "\n",
    "outliers = (df['rings'] < lw) | (df['rings'] > uw) #6.67 % of the dataset\n",
    "pre_outliers_removal_df_count = df['sex'].count()\n",
    "df['rings'][~outliers].count()\n",
    "removed_rings = df['rings'][outliers]\n",
    "df.drop(df.index[outliers], inplace=True)\n",
    "removed_rings.count(), df.count()"
   ]
  },
  {
   "cell_type": "code",
   "execution_count": 5,
   "metadata": {},
   "outputs": [
    {
     "data": {
      "text/plain": [
       "(31, sex               3857\n",
       " length            3857\n",
       " diameter          3857\n",
       " height            3857\n",
       " whole_weight      3857\n",
       " shucked_weight    3857\n",
       " viscera_weight    3857\n",
       " shell_weight      3857\n",
       " rings             3857\n",
       " dtype: int64)"
      ]
     },
     "execution_count": 5,
     "metadata": {},
     "output_type": "execute_result"
    }
   ],
   "source": [
    "q1 = df['whole_weight'].quantile(0.25)\n",
    "q3 = df['whole_weight'].quantile(0.75)\n",
    "iqr = q3 - q1\n",
    "lw = q1 - 1.5 * iqr\n",
    "\n",
    "uw = q3 + 1.5 * iqr\n",
    "#q1, q3, iqr, lw, uw\n",
    "outliers = (df['whole_weight'] < lw) | (df['whole_weight'] > uw)\n",
    "df['whole_weight'][outliers].count()\n",
    "removed_whole_weight = df['whole_weight'][outliers]\n",
    "df.drop(df.index[outliers], inplace=True)\n",
    "removed_whole_weight.count(),df.count()"
   ]
  },
  {
   "cell_type": "code",
   "execution_count": 6,
   "metadata": {},
   "outputs": [
    {
     "data": {
      "text/plain": [
       "(30, sex               3827\n",
       " length            3827\n",
       " diameter          3827\n",
       " height            3827\n",
       " whole_weight      3827\n",
       " shucked_weight    3827\n",
       " viscera_weight    3827\n",
       " shell_weight      3827\n",
       " rings             3827\n",
       " dtype: int64)"
      ]
     },
     "execution_count": 6,
     "metadata": {},
     "output_type": "execute_result"
    }
   ],
   "source": [
    "q1 = df['length'].quantile(0.25)\n",
    "q3 = df['length'].quantile(0.75)\n",
    "iqr = q3 - q1\n",
    "lw = q1 - 1.5 * iqr\n",
    "\n",
    "uw = q3 + 1.5 * iqr\n",
    "#q1, q3, iqr, lw, uw\n",
    "outliers = (df['length'] < lw) | (df['length'] > uw)\n",
    "df['length'][outliers].count()\n",
    "removed_length = df['length'][outliers]\n",
    "df.drop(df.index[outliers], inplace=True)\n",
    "removed_length.count(), df.count()"
   ]
  },
  {
   "cell_type": "code",
   "execution_count": 7,
   "metadata": {},
   "outputs": [
    {
     "data": {
      "text/plain": [
       "(7, sex               3820\n",
       " length            3820\n",
       " diameter          3820\n",
       " height            3820\n",
       " whole_weight      3820\n",
       " shucked_weight    3820\n",
       " viscera_weight    3820\n",
       " shell_weight      3820\n",
       " rings             3820\n",
       " dtype: int64)"
      ]
     },
     "execution_count": 7,
     "metadata": {},
     "output_type": "execute_result"
    }
   ],
   "source": [
    "q1 = df['diameter'].quantile(0.25)\n",
    "q3 = df['diameter'].quantile(0.75)\n",
    "iqr = q3 - q1\n",
    "lw = q1 - 1.5 * iqr\n",
    "\n",
    "uw = q3 + 1.5 * iqr\n",
    "#q1, q3, iqr, lw, uw\n",
    "outliers = (df['diameter'] < lw) | (df['diameter'] > uw)\n",
    "df['diameter'][outliers].count()\n",
    "removed_diameter = df['diameter'][outliers]\n",
    "df.drop(df.index[outliers], inplace=True)\n",
    "removed_diameter.count(), df.count()"
   ]
  },
  {
   "cell_type": "code",
   "execution_count": 8,
   "metadata": {},
   "outputs": [
    {
     "data": {
      "text/plain": [
       "(3, sex               3817\n",
       " length            3817\n",
       " diameter          3817\n",
       " height            3817\n",
       " whole_weight      3817\n",
       " shucked_weight    3817\n",
       " viscera_weight    3817\n",
       " shell_weight      3817\n",
       " rings             3817\n",
       " dtype: int64)"
      ]
     },
     "execution_count": 8,
     "metadata": {},
     "output_type": "execute_result"
    }
   ],
   "source": [
    "q1 = df['height'].quantile(0.25)\n",
    "q3 = df['height'].quantile(0.75)\n",
    "iqr = q3 - q1\n",
    "lw = q1 - 1.5 * iqr\n",
    "\n",
    "uw = q3 + 1.5 * iqr\n",
    "#q1, q3, iqr, lw, uw\n",
    "outliers = (df['height'] < lw) | (df['height'] > uw)\n",
    "df['height'][outliers].count()\n",
    "removed_height = df['height'][outliers]\n",
    "df.drop(df.index[outliers], inplace=True)\n",
    "removed_height.count(), df.count()"
   ]
  },
  {
   "cell_type": "code",
   "execution_count": 9,
   "metadata": {},
   "outputs": [
    {
     "data": {
      "text/plain": [
       "(20, sex               3797\n",
       " length            3797\n",
       " diameter          3797\n",
       " height            3797\n",
       " whole_weight      3797\n",
       " shucked_weight    3797\n",
       " viscera_weight    3797\n",
       " shell_weight      3797\n",
       " rings             3797\n",
       " dtype: int64)"
      ]
     },
     "execution_count": 9,
     "metadata": {},
     "output_type": "execute_result"
    }
   ],
   "source": [
    "q1 = df['shucked_weight'].quantile(0.25)\n",
    "q3 = df['shucked_weight'].quantile(0.75)\n",
    "iqr = q3 - q1\n",
    "lw = q1 - 1.5 * iqr\n",
    "\n",
    "uw = q3 + 1.5 * iqr\n",
    "#q1, q3, iqr, lw, uw\n",
    "outliers = (df['shucked_weight'] < lw) | (df['shucked_weight'] > uw)\n",
    "df['shucked_weight'][outliers].count()\n",
    "removed_shucked_weight = df['shucked_weight'][outliers]\n",
    "df.drop(df.index[outliers], inplace=True)\n",
    "removed_shucked_weight.count(), df.count()"
   ]
  },
  {
   "cell_type": "code",
   "execution_count": 10,
   "metadata": {},
   "outputs": [
    {
     "data": {
      "text/plain": [
       "(16, sex               3781\n",
       " length            3781\n",
       " diameter          3781\n",
       " height            3781\n",
       " whole_weight      3781\n",
       " shucked_weight    3781\n",
       " viscera_weight    3781\n",
       " shell_weight      3781\n",
       " rings             3781\n",
       " dtype: int64)"
      ]
     },
     "execution_count": 10,
     "metadata": {},
     "output_type": "execute_result"
    }
   ],
   "source": [
    "q1 = df['viscera_weight'].quantile(0.25)\n",
    "q3 = df['viscera_weight'].quantile(0.75)\n",
    "iqr = q3 - q1\n",
    "lw = q1 - 1.5 * iqr\n",
    "\n",
    "uw = q3 + 1.5 * iqr\n",
    "#q1, q3, iqr, lw, uw\n",
    "outliers = (df['viscera_weight'] < lw) | (df['viscera_weight'] > uw)\n",
    "df['viscera_weight'][outliers].count()\n",
    "removed_viscera_weight = df['viscera_weight'][outliers]\n",
    "df.drop(df.index[outliers], inplace=True)\n",
    "removed_viscera_weight.count(), df.count()"
   ]
  },
  {
   "cell_type": "code",
   "execution_count": 11,
   "metadata": {},
   "outputs": [
    {
     "data": {
      "text/plain": [
       "(11, sex               3770\n",
       " length            3770\n",
       " diameter          3770\n",
       " height            3770\n",
       " whole_weight      3770\n",
       " shucked_weight    3770\n",
       " viscera_weight    3770\n",
       " shell_weight      3770\n",
       " rings             3770\n",
       " dtype: int64)"
      ]
     },
     "execution_count": 11,
     "metadata": {},
     "output_type": "execute_result"
    }
   ],
   "source": [
    "q1 = df['shell_weight'].quantile(0.25)\n",
    "q3 = df['shell_weight'].quantile(0.75)\n",
    "iqr = q3 - q1\n",
    "lw = q1 - 1.5 * iqr\n",
    "\n",
    "uw = q3 + 1.5 * iqr\n",
    "#q1, q3, iqr, lw, uw\n",
    "outliers = (df['shell_weight'] < lw) | (df['shell_weight'] > uw)\n",
    "df['shell_weight'][outliers].count()\n",
    "removed_shell_weight = df['shell_weight'][outliers]\n",
    "df.drop(df.index[outliers], inplace=True)\n",
    "removed_shell_weight.count(), df.count()"
   ]
  },
  {
   "cell_type": "code",
   "execution_count": 82,
   "metadata": {},
   "outputs": [
    {
     "data": {
      "text/plain": [
       "<matplotlib.axes._subplots.AxesSubplot at 0xcf7e208>"
      ]
     },
     "execution_count": 82,
     "metadata": {},
     "output_type": "execute_result"
    },
    {
     "data": {
      "image/png": "[encoded data removed]",
      "text/plain": [
       "<matplotlib.figure.Figure at 0xbb008d0>"
      ]
     },
     "metadata": {},
     "output_type": "display_data"
    }
   ],
   "source": [
    "# Make an example dataset with y ~ x\n",
    "rs = np.random.RandomState(7)\n",
    "x = rs.normal(2, 1, 75)\n",
    "y = 2 + 1.5 * x + rs.normal(0, 2, 75)\n",
    "\n",
    "# Plot the residuals after fitting a linear model\n",
    "sb.residplot(x, y, lowess=True, color=\"g\")"
   ]
  },
  {
   "cell_type": "code",
   "execution_count": 83,
   "metadata": {},
   "outputs": [],
   "source": [
    "# sb.set(rc={'figure.figsize':(16,16)})\n",
    "# g = sb.lmplot(x=\"shucked_weight\", y=\"rings\", truncate=True, size=5, data=df)"
   ]
  }
 ],
 "metadata": {
  "kernelspec": {
   "display_name": "Python 3",
   "language": "python",
   "name": "python3"
  },
  "language_info": {
   "codemirror_mode": {
    "name": "ipython",
    "version": 3
   },
   "file_extension": ".py",
   "mimetype": "text/x-python",
   "name": "python",
   "nbconvert_exporter": "python",
   "pygments_lexer": "ipython3",
   "version": "3.6.4"
  }
 },
 "nbformat": 4,
 "nbformat_minor": 2
}
