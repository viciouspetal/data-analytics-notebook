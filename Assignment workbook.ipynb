{
 "cells": [
  {
   "cell_type": "markdown",
   "metadata": {},
   "source": [
    "# Data loading"
   ]
  },
  {
   "cell_type": "code",
   "execution_count": 49,
   "metadata": {},
   "outputs": [],
   "source": [
    "# to present any diagrams inline with the rest of the notebook as opposed to in new browser window\n",
    "%matplotlib inline \n",
    "\n",
    "# importing necessary modules\n",
    "import pandas as pd\n",
    "import seaborn as sb\n",
    "import matplotlib.pyplot as plt\n",
    "import numpy as np\n",
    "\n",
    "from sklearn.dummy import DummyRegressor, DummyClassifier\n",
    "from sklearn.linear_model import LinearRegression\n",
    "from sklearn.metrics import mean_absolute_error, classification_report\n",
    "from scipy.stats import norm\n",
    "from scipy import stats, integrate\n",
    "from sklearn.model_selection import GridSearchCV, KFold, cross_val_predict, StratifiedKFold\n",
    "from sklearn.pipeline import make_pipeline\n",
    "from sklearn.preprocessing import FunctionTransformer\n",
    "from sklearn.ensemble import RandomForestRegressor\n",
    "\n",
    "path_to_csv = \"data/abalone.csv\"\n",
    "default_figure_out_path = 'figs/'\n",
    "default_figure_ext = '.png'"
   ]
  },
  {
   "cell_type": "markdown",
   "metadata": {},
   "source": [
    "### Specifying data indices\n",
    "In order to easily identify data, which in the dataset provided doesn't have headers specified, we need to name our columns. \n",
    "At the same time we can add indices to the columns to speed up computations and enable random access to data."
   ]
  },
  {
   "cell_type": "code",
   "execution_count": 50,
   "metadata": {},
   "outputs": [],
   "source": [
    "df = pd.read_csv(path_to_csv, names=['sex', 'length', 'diameter', 'height', 'whole_weight', 'shucked_weight','viscera_weight', 'shell_weight','rings'], header=None)"
   ]
  },
  {
   "cell_type": "markdown",
   "metadata": {},
   "source": [
    "We need to verify that the data was imported successfully. The easiest avenue is to check the head and tail of the dataset"
   ]
  },
  {
   "cell_type": "code",
   "execution_count": 51,
   "metadata": {},
   "outputs": [
    {
     "data": {
      "text/html": [
       "<div>\n",
       "<style scoped>\n",
       "    .dataframe tbody tr th:only-of-type {\n",
       "        vertical-align: middle;\n",
       "    }\n",
       "\n",
       "    .dataframe tbody tr th {\n",
       "        vertical-align: top;\n",
       "    }\n",
       "\n",
       "    .dataframe thead th {\n",
       "        text-align: right;\n",
       "    }\n",
       "</style>\n",
       "<table border=\"1\" class=\"dataframe\">\n",
       "  <thead>\n",
       "    <tr style=\"text-align: right;\">\n",
       "      <th></th>\n",
       "      <th>sex</th>\n",
       "      <th>length</th>\n",
       "      <th>diameter</th>\n",
       "      <th>height</th>\n",
       "      <th>whole_weight</th>\n",
       "      <th>shucked_weight</th>\n",
       "      <th>viscera_weight</th>\n",
       "      <th>shell_weight</th>\n",
       "      <th>rings</th>\n",
       "    </tr>\n",
       "  </thead>\n",
       "  <tbody>\n",
       "    <tr>\n",
       "      <th>0</th>\n",
       "      <td>M</td>\n",
       "      <td>0.455</td>\n",
       "      <td>0.365</td>\n",
       "      <td>0.095</td>\n",
       "      <td>0.5140</td>\n",
       "      <td>0.2245</td>\n",
       "      <td>0.1010</td>\n",
       "      <td>0.150</td>\n",
       "      <td>15</td>\n",
       "    </tr>\n",
       "    <tr>\n",
       "      <th>1</th>\n",
       "      <td>M</td>\n",
       "      <td>0.350</td>\n",
       "      <td>0.265</td>\n",
       "      <td>0.090</td>\n",
       "      <td>0.2255</td>\n",
       "      <td>0.0995</td>\n",
       "      <td>0.0485</td>\n",
       "      <td>0.070</td>\n",
       "      <td>7</td>\n",
       "    </tr>\n",
       "    <tr>\n",
       "      <th>2</th>\n",
       "      <td>F</td>\n",
       "      <td>0.530</td>\n",
       "      <td>0.420</td>\n",
       "      <td>0.135</td>\n",
       "      <td>0.6770</td>\n",
       "      <td>0.2565</td>\n",
       "      <td>0.1415</td>\n",
       "      <td>0.210</td>\n",
       "      <td>9</td>\n",
       "    </tr>\n",
       "    <tr>\n",
       "      <th>3</th>\n",
       "      <td>M</td>\n",
       "      <td>0.440</td>\n",
       "      <td>0.365</td>\n",
       "      <td>0.125</td>\n",
       "      <td>0.5160</td>\n",
       "      <td>0.2155</td>\n",
       "      <td>0.1140</td>\n",
       "      <td>0.155</td>\n",
       "      <td>10</td>\n",
       "    </tr>\n",
       "    <tr>\n",
       "      <th>4</th>\n",
       "      <td>I</td>\n",
       "      <td>0.330</td>\n",
       "      <td>0.255</td>\n",
       "      <td>0.080</td>\n",
       "      <td>0.2050</td>\n",
       "      <td>0.0895</td>\n",
       "      <td>0.0395</td>\n",
       "      <td>0.055</td>\n",
       "      <td>7</td>\n",
       "    </tr>\n",
       "  </tbody>\n",
       "</table>\n",
       "</div>"
      ],
      "text/plain": [
       "  sex  length  diameter  height  whole_weight  shucked_weight  viscera_weight  \\\n",
       "0   M   0.455     0.365   0.095        0.5140          0.2245          0.1010   \n",
       "1   M   0.350     0.265   0.090        0.2255          0.0995          0.0485   \n",
       "2   F   0.530     0.420   0.135        0.6770          0.2565          0.1415   \n",
       "3   M   0.440     0.365   0.125        0.5160          0.2155          0.1140   \n",
       "4   I   0.330     0.255   0.080        0.2050          0.0895          0.0395   \n",
       "\n",
       "   shell_weight rings  \n",
       "0         0.150    15  \n",
       "1         0.070     7  \n",
       "2         0.210     9  \n",
       "3         0.155    10  \n",
       "4         0.055     7  "
      ]
     },
     "execution_count": 51,
     "metadata": {},
     "output_type": "execute_result"
    }
   ],
   "source": [
    "df.head()"
   ]
  },
  {
   "cell_type": "code",
   "execution_count": 52,
   "metadata": {},
   "outputs": [
    {
     "data": {
      "text/html": [
       "<div>\n",
       "<style scoped>\n",
       "    .dataframe tbody tr th:only-of-type {\n",
       "        vertical-align: middle;\n",
       "    }\n",
       "\n",
       "    .dataframe tbody tr th {\n",
       "        vertical-align: top;\n",
       "    }\n",
       "\n",
       "    .dataframe thead th {\n",
       "        text-align: right;\n",
       "    }\n",
       "</style>\n",
       "<table border=\"1\" class=\"dataframe\">\n",
       "  <thead>\n",
       "    <tr style=\"text-align: right;\">\n",
       "      <th></th>\n",
       "      <th>sex</th>\n",
       "      <th>length</th>\n",
       "      <th>diameter</th>\n",
       "      <th>height</th>\n",
       "      <th>whole_weight</th>\n",
       "      <th>shucked_weight</th>\n",
       "      <th>viscera_weight</th>\n",
       "      <th>shell_weight</th>\n",
       "      <th>rings</th>\n",
       "    </tr>\n",
       "  </thead>\n",
       "  <tbody>\n",
       "    <tr>\n",
       "      <th>4172</th>\n",
       "      <td>F</td>\n",
       "      <td>0.565</td>\n",
       "      <td>0.450</td>\n",
       "      <td>0.165</td>\n",
       "      <td>0.8870</td>\n",
       "      <td>0.3700</td>\n",
       "      <td>0.2390</td>\n",
       "      <td>0.2490</td>\n",
       "      <td>11</td>\n",
       "    </tr>\n",
       "    <tr>\n",
       "      <th>4173</th>\n",
       "      <td>M</td>\n",
       "      <td>0.590</td>\n",
       "      <td>0.440</td>\n",
       "      <td>0.135</td>\n",
       "      <td>0.9660</td>\n",
       "      <td>0.4390</td>\n",
       "      <td>0.2145</td>\n",
       "      <td>0.2605</td>\n",
       "      <td>10</td>\n",
       "    </tr>\n",
       "    <tr>\n",
       "      <th>4174</th>\n",
       "      <td>M</td>\n",
       "      <td>0.600</td>\n",
       "      <td>0.475</td>\n",
       "      <td>0.205</td>\n",
       "      <td>1.1760</td>\n",
       "      <td>0.5255</td>\n",
       "      <td>0.2875</td>\n",
       "      <td>0.3080</td>\n",
       "      <td>9</td>\n",
       "    </tr>\n",
       "    <tr>\n",
       "      <th>4175</th>\n",
       "      <td>F</td>\n",
       "      <td>0.625</td>\n",
       "      <td>0.485</td>\n",
       "      <td>0.150</td>\n",
       "      <td>1.0945</td>\n",
       "      <td>0.5310</td>\n",
       "      <td>0.2610</td>\n",
       "      <td>0.2960</td>\n",
       "      <td>10</td>\n",
       "    </tr>\n",
       "    <tr>\n",
       "      <th>4176</th>\n",
       "      <td>M</td>\n",
       "      <td>0.710</td>\n",
       "      <td>0.555</td>\n",
       "      <td>0.195</td>\n",
       "      <td>1.9485</td>\n",
       "      <td>0.9455</td>\n",
       "      <td>0.3765</td>\n",
       "      <td>0.4950</td>\n",
       "      <td>12</td>\n",
       "    </tr>\n",
       "  </tbody>\n",
       "</table>\n",
       "</div>"
      ],
      "text/plain": [
       "     sex  length  diameter  height  whole_weight  shucked_weight  \\\n",
       "4172   F   0.565     0.450   0.165        0.8870          0.3700   \n",
       "4173   M   0.590     0.440   0.135        0.9660          0.4390   \n",
       "4174   M   0.600     0.475   0.205        1.1760          0.5255   \n",
       "4175   F   0.625     0.485   0.150        1.0945          0.5310   \n",
       "4176   M   0.710     0.555   0.195        1.9485          0.9455   \n",
       "\n",
       "      viscera_weight  shell_weight rings  \n",
       "4172          0.2390        0.2490    11  \n",
       "4173          0.2145        0.2605    10  \n",
       "4174          0.2875        0.3080     9  \n",
       "4175          0.2610        0.2960    10  \n",
       "4176          0.3765        0.4950    12  "
      ]
     },
     "execution_count": 52,
     "metadata": {},
     "output_type": "execute_result"
    }
   ],
   "source": [
    "df.tail()"
   ]
  },
  {
   "cell_type": "markdown",
   "metadata": {},
   "source": [
    "# Data cleaning\n",
    "## Checking for empty records\n",
    "The very first thing that needs to be performed on any dataset, before any analysis can be perfoermed is cleaning the data. The rationale behind it is that missing records can and will skew any computations done on the dataset. We can use `isnull` method inherent to any `Data Frame`."
   ]
  },
  {
   "cell_type": "markdown",
   "metadata": {},
   "source": [
    "First we need to make sure all types are numeric"
   ]
  },
  {
   "cell_type": "code",
   "execution_count": 53,
   "metadata": {},
   "outputs": [
    {
     "name": "stdout",
     "output_type": "stream",
     "text": [
      "sex                object\n",
      "length            float64\n",
      "diameter          float64\n",
      "height            float64\n",
      "whole_weight      float64\n",
      "shucked_weight    float64\n",
      "viscera_weight    float64\n",
      "shell_weight      float64\n",
      "rings              object\n",
      "dtype: object\n"
     ]
    }
   ],
   "source": [
    "print(df.dtypes)"
   ]
  },
  {
   "cell_type": "code",
   "execution_count": 54,
   "metadata": {},
   "outputs": [
    {
     "data": {
      "text/plain": [
       "sex                object\n",
       "length            float64\n",
       "diameter          float64\n",
       "height            float64\n",
       "whole_weight      float64\n",
       "shucked_weight    float64\n",
       "viscera_weight    float64\n",
       "shell_weight      float64\n",
       "rings             float64\n",
       "dtype: object"
      ]
     },
     "execution_count": 54,
     "metadata": {},
     "output_type": "execute_result"
    }
   ],
   "source": [
    "# convert rings to number. Any text will turn into NaN. Suppressing errors with `coerce`\n",
    "df['rings'] = pd.to_numeric(df['rings'], errors='coerce')\n",
    "df.dtypes"
   ]
  },
  {
   "cell_type": "code",
   "execution_count": 55,
   "metadata": {},
   "outputs": [
    {
     "data": {
      "text/plain": [
       "(4177, 9)"
      ]
     },
     "execution_count": 55,
     "metadata": {},
     "output_type": "execute_result"
    }
   ],
   "source": [
    "# checking that shape of the dataset didn't change as part of the conversion operation\n",
    "df.shape"
   ]
  },
  {
   "cell_type": "code",
   "execution_count": 56,
   "metadata": {
    "scrolled": false
   },
   "outputs": [
    {
     "data": {
      "text/html": [
       "<div>\n",
       "<style scoped>\n",
       "    .dataframe tbody tr th:only-of-type {\n",
       "        vertical-align: middle;\n",
       "    }\n",
       "\n",
       "    .dataframe tbody tr th {\n",
       "        vertical-align: top;\n",
       "    }\n",
       "\n",
       "    .dataframe thead th {\n",
       "        text-align: right;\n",
       "    }\n",
       "</style>\n",
       "<table border=\"1\" class=\"dataframe\">\n",
       "  <thead>\n",
       "    <tr style=\"text-align: right;\">\n",
       "      <th></th>\n",
       "      <th>sex</th>\n",
       "      <th>length</th>\n",
       "      <th>diameter</th>\n",
       "      <th>height</th>\n",
       "      <th>whole_weight</th>\n",
       "      <th>shucked_weight</th>\n",
       "      <th>viscera_weight</th>\n",
       "      <th>shell_weight</th>\n",
       "      <th>rings</th>\n",
       "    </tr>\n",
       "  </thead>\n",
       "  <tbody>\n",
       "    <tr>\n",
       "      <th>878</th>\n",
       "      <td>F</td>\n",
       "      <td>0.635</td>\n",
       "      <td>0.485</td>\n",
       "      <td>0.165</td>\n",
       "      <td>1.2945</td>\n",
       "      <td>0.6680</td>\n",
       "      <td>NaN</td>\n",
       "      <td>0.2715</td>\n",
       "      <td>9.0</td>\n",
       "    </tr>\n",
       "    <tr>\n",
       "      <th>1888</th>\n",
       "      <td>F</td>\n",
       "      <td>0.565</td>\n",
       "      <td>0.445</td>\n",
       "      <td>0.125</td>\n",
       "      <td>0.8305</td>\n",
       "      <td>0.3135</td>\n",
       "      <td>0.1785</td>\n",
       "      <td>0.2300</td>\n",
       "      <td>NaN</td>\n",
       "    </tr>\n",
       "    <tr>\n",
       "      <th>3093</th>\n",
       "      <td>NaN</td>\n",
       "      <td>0.520</td>\n",
       "      <td>0.430</td>\n",
       "      <td>0.150</td>\n",
       "      <td>0.7280</td>\n",
       "      <td>0.3020</td>\n",
       "      <td>0.1575</td>\n",
       "      <td>0.2350</td>\n",
       "      <td>11.0</td>\n",
       "    </tr>\n",
       "    <tr>\n",
       "      <th>3466</th>\n",
       "      <td>M</td>\n",
       "      <td>0.640</td>\n",
       "      <td>0.500</td>\n",
       "      <td>0.170</td>\n",
       "      <td>1.4545</td>\n",
       "      <td>0.6420</td>\n",
       "      <td>0.3575</td>\n",
       "      <td>0.3540</td>\n",
       "      <td>NaN</td>\n",
       "    </tr>\n",
       "  </tbody>\n",
       "</table>\n",
       "</div>"
      ],
      "text/plain": [
       "      sex  length  diameter  height  whole_weight  shucked_weight  \\\n",
       "878     F   0.635     0.485   0.165        1.2945          0.6680   \n",
       "1888    F   0.565     0.445   0.125        0.8305          0.3135   \n",
       "3093  NaN   0.520     0.430   0.150        0.7280          0.3020   \n",
       "3466    M   0.640     0.500   0.170        1.4545          0.6420   \n",
       "\n",
       "      viscera_weight  shell_weight  rings  \n",
       "878              NaN        0.2715    9.0  \n",
       "1888          0.1785        0.2300    NaN  \n",
       "3093          0.1575        0.2350   11.0  \n",
       "3466          0.3575        0.3540    NaN  "
      ]
     },
     "execution_count": 56,
     "metadata": {},
     "output_type": "execute_result"
    }
   ],
   "source": [
    "nan_error = df.isnull().any(axis=1)\n",
    "df[nan_error]"
   ]
  },
  {
   "cell_type": "markdown",
   "metadata": {},
   "source": [
    "From the data above we can see that some records are missing data:\n",
    " - Row 878 is missing `viscera weight` property\n",
    " - Row 1888 is missing `rings` value\n",
    " - Row 3093 doesn't have value for `sex` specified\n",
    " - Row 3466 doesn't have value for `rings` specified"
   ]
  },
  {
   "cell_type": "markdown",
   "metadata": {},
   "source": [
    "## Checking dataset for errorenous data\n",
    "Before re remove any data we shoul analyze if there are any errors in the dataset. It should e done before removal of any data as if the number or errors in data is significant in may become necessary to substitute wrong data and at the same time it may be possible to fill the data gaps as well.\n",
    "### Values below or equal to 0\n",
    "For abalone, as a living organism, it doesn't make sense for any of its attributes to be below or equal to zero."
   ]
  },
  {
   "cell_type": "code",
   "execution_count": 57,
   "metadata": {},
   "outputs": [
    {
     "data": {
      "text/html": [
       "<div>\n",
       "<style scoped>\n",
       "    .dataframe tbody tr th:only-of-type {\n",
       "        vertical-align: middle;\n",
       "    }\n",
       "\n",
       "    .dataframe tbody tr th {\n",
       "        vertical-align: top;\n",
       "    }\n",
       "\n",
       "    .dataframe thead th {\n",
       "        text-align: right;\n",
       "    }\n",
       "</style>\n",
       "<table border=\"1\" class=\"dataframe\">\n",
       "  <thead>\n",
       "    <tr style=\"text-align: right;\">\n",
       "      <th></th>\n",
       "      <th>length</th>\n",
       "      <th>diameter</th>\n",
       "      <th>height</th>\n",
       "      <th>whole_weight</th>\n",
       "      <th>shucked_weight</th>\n",
       "      <th>viscera_weight</th>\n",
       "      <th>shell_weight</th>\n",
       "      <th>rings</th>\n",
       "    </tr>\n",
       "  </thead>\n",
       "  <tbody>\n",
       "    <tr>\n",
       "      <th>count</th>\n",
       "      <td>4177.000000</td>\n",
       "      <td>4177.000000</td>\n",
       "      <td>4177.000000</td>\n",
       "      <td>4177.000000</td>\n",
       "      <td>4177.000000</td>\n",
       "      <td>4176.000000</td>\n",
       "      <td>4177.000000</td>\n",
       "      <td>4175.000000</td>\n",
       "    </tr>\n",
       "    <tr>\n",
       "      <th>mean</th>\n",
       "      <td>0.523992</td>\n",
       "      <td>0.407675</td>\n",
       "      <td>0.139516</td>\n",
       "      <td>0.828742</td>\n",
       "      <td>0.359367</td>\n",
       "      <td>0.180574</td>\n",
       "      <td>0.238831</td>\n",
       "      <td>9.933653</td>\n",
       "    </tr>\n",
       "    <tr>\n",
       "      <th>std</th>\n",
       "      <td>0.120093</td>\n",
       "      <td>0.100082</td>\n",
       "      <td>0.041827</td>\n",
       "      <td>0.490389</td>\n",
       "      <td>0.221963</td>\n",
       "      <td>0.109620</td>\n",
       "      <td>0.139203</td>\n",
       "      <td>3.224867</td>\n",
       "    </tr>\n",
       "    <tr>\n",
       "      <th>min</th>\n",
       "      <td>0.075000</td>\n",
       "      <td>-0.430000</td>\n",
       "      <td>0.000000</td>\n",
       "      <td>0.002000</td>\n",
       "      <td>0.001000</td>\n",
       "      <td>0.000500</td>\n",
       "      <td>0.001500</td>\n",
       "      <td>1.000000</td>\n",
       "    </tr>\n",
       "    <tr>\n",
       "      <th>25%</th>\n",
       "      <td>0.450000</td>\n",
       "      <td>0.350000</td>\n",
       "      <td>0.115000</td>\n",
       "      <td>0.441500</td>\n",
       "      <td>0.186000</td>\n",
       "      <td>0.093375</td>\n",
       "      <td>0.130000</td>\n",
       "      <td>8.000000</td>\n",
       "    </tr>\n",
       "    <tr>\n",
       "      <th>50%</th>\n",
       "      <td>0.545000</td>\n",
       "      <td>0.425000</td>\n",
       "      <td>0.140000</td>\n",
       "      <td>0.799500</td>\n",
       "      <td>0.336000</td>\n",
       "      <td>0.170750</td>\n",
       "      <td>0.234000</td>\n",
       "      <td>9.000000</td>\n",
       "    </tr>\n",
       "    <tr>\n",
       "      <th>75%</th>\n",
       "      <td>0.615000</td>\n",
       "      <td>0.480000</td>\n",
       "      <td>0.165000</td>\n",
       "      <td>1.153000</td>\n",
       "      <td>0.502000</td>\n",
       "      <td>0.252625</td>\n",
       "      <td>0.329000</td>\n",
       "      <td>11.000000</td>\n",
       "    </tr>\n",
       "    <tr>\n",
       "      <th>max</th>\n",
       "      <td>0.815000</td>\n",
       "      <td>0.650000</td>\n",
       "      <td>1.130000</td>\n",
       "      <td>2.825500</td>\n",
       "      <td>1.488000</td>\n",
       "      <td>0.760000</td>\n",
       "      <td>1.005000</td>\n",
       "      <td>29.000000</td>\n",
       "    </tr>\n",
       "  </tbody>\n",
       "</table>\n",
       "</div>"
      ],
      "text/plain": [
       "            length     diameter       height  whole_weight  shucked_weight  \\\n",
       "count  4177.000000  4177.000000  4177.000000   4177.000000     4177.000000   \n",
       "mean      0.523992     0.407675     0.139516      0.828742        0.359367   \n",
       "std       0.120093     0.100082     0.041827      0.490389        0.221963   \n",
       "min       0.075000    -0.430000     0.000000      0.002000        0.001000   \n",
       "25%       0.450000     0.350000     0.115000      0.441500        0.186000   \n",
       "50%       0.545000     0.425000     0.140000      0.799500        0.336000   \n",
       "75%       0.615000     0.480000     0.165000      1.153000        0.502000   \n",
       "max       0.815000     0.650000     1.130000      2.825500        1.488000   \n",
       "\n",
       "       viscera_weight  shell_weight        rings  \n",
       "count     4176.000000   4177.000000  4175.000000  \n",
       "mean         0.180574      0.238831     9.933653  \n",
       "std          0.109620      0.139203     3.224867  \n",
       "min          0.000500      0.001500     1.000000  \n",
       "25%          0.093375      0.130000     8.000000  \n",
       "50%          0.170750      0.234000     9.000000  \n",
       "75%          0.252625      0.329000    11.000000  \n",
       "max          0.760000      1.005000    29.000000  "
      ]
     },
     "execution_count": 57,
     "metadata": {},
     "output_type": "execute_result"
    }
   ],
   "source": [
    "df.describe()"
   ]
  },
  {
   "cell_type": "code",
   "execution_count": 58,
   "metadata": {},
   "outputs": [
    {
     "data": {
      "text/plain": [
       "sex               4176\n",
       "length               0\n",
       "diameter             1\n",
       "height               2\n",
       "whole_weight         0\n",
       "shucked_weight       0\n",
       "viscera_weight       0\n",
       "shell_weight         0\n",
       "rings                0\n",
       "dtype: int64"
      ]
     },
     "execution_count": 58,
     "metadata": {},
     "output_type": "execute_result"
    }
   ],
   "source": [
    "below_or_zero=df[df <= 0.0 ].count()\n",
    "below_or_zero"
   ]
  },
  {
   "cell_type": "markdown",
   "metadata": {},
   "source": [
    "We're not concerned with `sex` column being reported as it's not a numeric data. For the rings data we need to check it with `integer` type applied instead of a floating point one."
   ]
  },
  {
   "cell_type": "markdown",
   "metadata": {},
   "source": [
    "From the description and computation we see that there are a min of 0 for height and a negative value for diameter which in case of a living organism like abalone isn't valid. We need to track down which row exactly contain error data and remove them."
   ]
  },
  {
   "cell_type": "code",
   "execution_count": 59,
   "metadata": {},
   "outputs": [
    {
     "data": {
      "text/html": [
       "<div>\n",
       "<style scoped>\n",
       "    .dataframe tbody tr th:only-of-type {\n",
       "        vertical-align: middle;\n",
       "    }\n",
       "\n",
       "    .dataframe tbody tr th {\n",
       "        vertical-align: top;\n",
       "    }\n",
       "\n",
       "    .dataframe thead th {\n",
       "        text-align: right;\n",
       "    }\n",
       "</style>\n",
       "<table border=\"1\" class=\"dataframe\">\n",
       "  <thead>\n",
       "    <tr style=\"text-align: right;\">\n",
       "      <th></th>\n",
       "      <th>sex</th>\n",
       "      <th>length</th>\n",
       "      <th>diameter</th>\n",
       "      <th>height</th>\n",
       "      <th>whole_weight</th>\n",
       "      <th>shucked_weight</th>\n",
       "      <th>viscera_weight</th>\n",
       "      <th>shell_weight</th>\n",
       "      <th>rings</th>\n",
       "    </tr>\n",
       "  </thead>\n",
       "  <tbody>\n",
       "    <tr>\n",
       "      <th>2758</th>\n",
       "      <td>M</td>\n",
       "      <td>0.535</td>\n",
       "      <td>-0.43</td>\n",
       "      <td>0.155</td>\n",
       "      <td>0.7845</td>\n",
       "      <td>0.3285</td>\n",
       "      <td>0.169</td>\n",
       "      <td>0.245</td>\n",
       "      <td>10.0</td>\n",
       "    </tr>\n",
       "  </tbody>\n",
       "</table>\n",
       "</div>"
      ],
      "text/plain": [
       "     sex  length  diameter  height  whole_weight  shucked_weight  \\\n",
       "2758   M   0.535     -0.43   0.155        0.7845          0.3285   \n",
       "\n",
       "      viscera_weight  shell_weight  rings  \n",
       "2758           0.169         0.245   10.0  "
      ]
     },
     "metadata": {},
     "output_type": "display_data"
    },
    {
     "data": {
      "text/html": [
       "<div>\n",
       "<style scoped>\n",
       "    .dataframe tbody tr th:only-of-type {\n",
       "        vertical-align: middle;\n",
       "    }\n",
       "\n",
       "    .dataframe tbody tr th {\n",
       "        vertical-align: top;\n",
       "    }\n",
       "\n",
       "    .dataframe thead th {\n",
       "        text-align: right;\n",
       "    }\n",
       "</style>\n",
       "<table border=\"1\" class=\"dataframe\">\n",
       "  <thead>\n",
       "    <tr style=\"text-align: right;\">\n",
       "      <th></th>\n",
       "      <th>sex</th>\n",
       "      <th>length</th>\n",
       "      <th>diameter</th>\n",
       "      <th>height</th>\n",
       "      <th>whole_weight</th>\n",
       "      <th>shucked_weight</th>\n",
       "      <th>viscera_weight</th>\n",
       "      <th>shell_weight</th>\n",
       "      <th>rings</th>\n",
       "    </tr>\n",
       "  </thead>\n",
       "  <tbody>\n",
       "    <tr>\n",
       "      <th>1257</th>\n",
       "      <td>I</td>\n",
       "      <td>0.430</td>\n",
       "      <td>0.34</td>\n",
       "      <td>0.0</td>\n",
       "      <td>0.428</td>\n",
       "      <td>0.2065</td>\n",
       "      <td>0.0860</td>\n",
       "      <td>0.1150</td>\n",
       "      <td>8.0</td>\n",
       "    </tr>\n",
       "    <tr>\n",
       "      <th>3996</th>\n",
       "      <td>I</td>\n",
       "      <td>0.315</td>\n",
       "      <td>0.23</td>\n",
       "      <td>0.0</td>\n",
       "      <td>0.134</td>\n",
       "      <td>0.0575</td>\n",
       "      <td>0.0285</td>\n",
       "      <td>0.3505</td>\n",
       "      <td>6.0</td>\n",
       "    </tr>\n",
       "  </tbody>\n",
       "</table>\n",
       "</div>"
      ],
      "text/plain": [
       "     sex  length  diameter  height  whole_weight  shucked_weight  \\\n",
       "1257   I   0.430      0.34     0.0         0.428          0.2065   \n",
       "3996   I   0.315      0.23     0.0         0.134          0.0575   \n",
       "\n",
       "      viscera_weight  shell_weight  rings  \n",
       "1257          0.0860        0.1150    8.0  \n",
       "3996          0.0285        0.3505    6.0  "
      ]
     },
     "metadata": {},
     "output_type": "display_data"
    }
   ],
   "source": [
    "error_diameter=df['diameter'] <= 0.0\n",
    "error_height = df['height'] <= 0.0\n",
    "display(df[error_diameter], df[error_height])"
   ]
  },
  {
   "cell_type": "markdown",
   "metadata": {},
   "source": [
    "Now that we know that there are negative values in the dataset we need to locate and remove them."
   ]
  },
  {
   "cell_type": "code",
   "execution_count": 60,
   "metadata": {},
   "outputs": [
    {
     "data": {
      "text/plain": [
       "<matplotlib.axes._subplots.AxesSubplot at 0xf612ef0>"
      ]
     },
     "execution_count": 60,
     "metadata": {},
     "output_type": "execute_result"
    },
    {
     "data": {
      "image/png": "[encoded data removed]",
      "text/plain": [
       "<matplotlib.figure.Figure at 0xd46d208>"
      ]
     },
     "metadata": {},
     "output_type": "display_data"
    }
   ],
   "source": [
    "# tuning graph to look for negative diameter. Start at full dataset and then manipulate location param to narrow down focus\n",
    "df.loc[2750:2760].plot(figsize=(16,12), title='Partial scatterplot - identifying negative values')"
   ]
  },
  {
   "cell_type": "markdown",
   "metadata": {},
   "source": [
    "## Analyzing data for domain errors\n",
    "Endemic to abalone itself it is invalid for any specimen to have:\n",
    " - higher weight when shucked (stripped of its shell) than whole weight\n",
    " - higher viscera weight than whole weight\n",
    " - higher shell weight than whole weight\n",
    "\n",
    "We can do 2 things to find the errors:\n",
    " - computation method\n",
    " - scatter matrix dedicated to specific parameters listed above\n",
    "\n",
    "While it is possible to identify errors using visual method by narrowing down the graph field to precise location of the errorneous data it is much faster to compute it."
   ]
  },
  {
   "cell_type": "code",
   "execution_count": 61,
   "metadata": {},
   "outputs": [
    {
     "data": {
      "text/html": [
       "<div>\n",
       "<style scoped>\n",
       "    .dataframe tbody tr th:only-of-type {\n",
       "        vertical-align: middle;\n",
       "    }\n",
       "\n",
       "    .dataframe tbody tr th {\n",
       "        vertical-align: top;\n",
       "    }\n",
       "\n",
       "    .dataframe thead th {\n",
       "        text-align: right;\n",
       "    }\n",
       "</style>\n",
       "<table border=\"1\" class=\"dataframe\">\n",
       "  <thead>\n",
       "    <tr style=\"text-align: right;\">\n",
       "      <th></th>\n",
       "      <th>sex</th>\n",
       "      <th>length</th>\n",
       "      <th>diameter</th>\n",
       "      <th>height</th>\n",
       "      <th>whole_weight</th>\n",
       "      <th>shucked_weight</th>\n",
       "      <th>viscera_weight</th>\n",
       "      <th>shell_weight</th>\n",
       "      <th>rings</th>\n",
       "    </tr>\n",
       "  </thead>\n",
       "  <tbody>\n",
       "    <tr>\n",
       "      <th>1216</th>\n",
       "      <td>I</td>\n",
       "      <td>0.310</td>\n",
       "      <td>0.225</td>\n",
       "      <td>0.070</td>\n",
       "      <td>0.1055</td>\n",
       "      <td>0.4350</td>\n",
       "      <td>0.0150</td>\n",
       "      <td>0.0400</td>\n",
       "      <td>5.0</td>\n",
       "    </tr>\n",
       "    <tr>\n",
       "      <th>2627</th>\n",
       "      <td>I</td>\n",
       "      <td>0.275</td>\n",
       "      <td>0.205</td>\n",
       "      <td>0.070</td>\n",
       "      <td>0.1055</td>\n",
       "      <td>0.4950</td>\n",
       "      <td>0.0190</td>\n",
       "      <td>0.0315</td>\n",
       "      <td>5.0</td>\n",
       "    </tr>\n",
       "    <tr>\n",
       "      <th>2641</th>\n",
       "      <td>I</td>\n",
       "      <td>0.475</td>\n",
       "      <td>0.365</td>\n",
       "      <td>0.100</td>\n",
       "      <td>0.1315</td>\n",
       "      <td>0.2025</td>\n",
       "      <td>0.0875</td>\n",
       "      <td>0.1230</td>\n",
       "      <td>7.0</td>\n",
       "    </tr>\n",
       "    <tr>\n",
       "      <th>3086</th>\n",
       "      <td>I</td>\n",
       "      <td>0.355</td>\n",
       "      <td>0.270</td>\n",
       "      <td>0.075</td>\n",
       "      <td>0.2040</td>\n",
       "      <td>0.3045</td>\n",
       "      <td>0.0460</td>\n",
       "      <td>0.0595</td>\n",
       "      <td>7.0</td>\n",
       "    </tr>\n",
       "  </tbody>\n",
       "</table>\n",
       "</div>"
      ],
      "text/plain": [
       "     sex  length  diameter  height  whole_weight  shucked_weight  \\\n",
       "1216   I   0.310     0.225   0.070        0.1055          0.4350   \n",
       "2627   I   0.275     0.205   0.070        0.1055          0.4950   \n",
       "2641   I   0.475     0.365   0.100        0.1315          0.2025   \n",
       "3086   I   0.355     0.270   0.075        0.2040          0.3045   \n",
       "\n",
       "      viscera_weight  shell_weight  rings  \n",
       "1216          0.0150        0.0400    5.0  \n",
       "2627          0.0190        0.0315    5.0  \n",
       "2641          0.0875        0.1230    7.0  \n",
       "3086          0.0460        0.0595    7.0  "
      ]
     },
     "execution_count": 61,
     "metadata": {},
     "output_type": "execute_result"
    }
   ],
   "source": [
    "shucked_error =df['shucked_weight'] > df['whole_weight']\n",
    "df[shucked_error]"
   ]
  },
  {
   "cell_type": "code",
   "execution_count": 62,
   "metadata": {},
   "outputs": [
    {
     "data": {
      "text/html": [
       "<div>\n",
       "<style scoped>\n",
       "    .dataframe tbody tr th:only-of-type {\n",
       "        vertical-align: middle;\n",
       "    }\n",
       "\n",
       "    .dataframe tbody tr th {\n",
       "        vertical-align: top;\n",
       "    }\n",
       "\n",
       "    .dataframe thead th {\n",
       "        text-align: right;\n",
       "    }\n",
       "</style>\n",
       "<table border=\"1\" class=\"dataframe\">\n",
       "  <thead>\n",
       "    <tr style=\"text-align: right;\">\n",
       "      <th></th>\n",
       "      <th>sex</th>\n",
       "      <th>length</th>\n",
       "      <th>diameter</th>\n",
       "      <th>height</th>\n",
       "      <th>whole_weight</th>\n",
       "      <th>shucked_weight</th>\n",
       "      <th>viscera_weight</th>\n",
       "      <th>shell_weight</th>\n",
       "      <th>rings</th>\n",
       "    </tr>\n",
       "  </thead>\n",
       "  <tbody>\n",
       "  </tbody>\n",
       "</table>\n",
       "</div>"
      ],
      "text/plain": [
       "Empty DataFrame\n",
       "Columns: [sex, length, diameter, height, whole_weight, shucked_weight, viscera_weight, shell_weight, rings]\n",
       "Index: []"
      ]
     },
     "execution_count": 62,
     "metadata": {},
     "output_type": "execute_result"
    }
   ],
   "source": [
    "df[df['viscera_weight'] > df['whole_weight']]"
   ]
  },
  {
   "cell_type": "code",
   "execution_count": 63,
   "metadata": {},
   "outputs": [
    {
     "data": {
      "text/html": [
       "<div>\n",
       "<style scoped>\n",
       "    .dataframe tbody tr th:only-of-type {\n",
       "        vertical-align: middle;\n",
       "    }\n",
       "\n",
       "    .dataframe tbody tr th {\n",
       "        vertical-align: top;\n",
       "    }\n",
       "\n",
       "    .dataframe thead th {\n",
       "        text-align: right;\n",
       "    }\n",
       "</style>\n",
       "<table border=\"1\" class=\"dataframe\">\n",
       "  <thead>\n",
       "    <tr style=\"text-align: right;\">\n",
       "      <th></th>\n",
       "      <th>sex</th>\n",
       "      <th>length</th>\n",
       "      <th>diameter</th>\n",
       "      <th>height</th>\n",
       "      <th>whole_weight</th>\n",
       "      <th>shucked_weight</th>\n",
       "      <th>viscera_weight</th>\n",
       "      <th>shell_weight</th>\n",
       "      <th>rings</th>\n",
       "    </tr>\n",
       "  </thead>\n",
       "  <tbody>\n",
       "    <tr>\n",
       "      <th>3996</th>\n",
       "      <td>I</td>\n",
       "      <td>0.315</td>\n",
       "      <td>0.23</td>\n",
       "      <td>0.0</td>\n",
       "      <td>0.134</td>\n",
       "      <td>0.0575</td>\n",
       "      <td>0.0285</td>\n",
       "      <td>0.3505</td>\n",
       "      <td>6.0</td>\n",
       "    </tr>\n",
       "  </tbody>\n",
       "</table>\n",
       "</div>"
      ],
      "text/plain": [
       "     sex  length  diameter  height  whole_weight  shucked_weight  \\\n",
       "3996   I   0.315      0.23     0.0         0.134          0.0575   \n",
       "\n",
       "      viscera_weight  shell_weight  rings  \n",
       "3996          0.0285        0.3505    6.0  "
      ]
     },
     "execution_count": 63,
     "metadata": {},
     "output_type": "execute_result"
    }
   ],
   "source": [
    "shell_error = df['shell_weight'] > df['whole_weight']\n",
    "df[shell_error]"
   ]
  },
  {
   "cell_type": "markdown",
   "metadata": {},
   "source": [
    "## Summary of erroenous data\n",
    "We have 4 rows with non-numerical values:\n",
    " - 878\n",
    " - 1888\n",
    " - 3093\n",
    " - 3466\n",
    " \n",
    "7 rows with data that cannot be correct for domain reasons:\n",
    " - 4 where shucked weight is higher than whole weight\n",
    "   - 1216\n",
    "   - 2627\n",
    "   - 2641\n",
    "   - 3086\n",
    " - 1 row with negative value for diameter\n",
    "   - 2758\n",
    " - 2 rows with 0 value for height\n",
    "   - 1257\n",
    "   - 3996\n",
    "\n",
    "Row 3996 has been flagged by 2 checks as one containing impossible values: height and shell weight higher than whole weight, however, is only contributes towards row-error count once.\n",
    " \n",
    "In summary we have 11 rows that either have to have some of the values substituted or removed.\n",
    "\n",
    "From checking the tail of the dataset in previous section we know that the dataset contains 4176 rows. \n",
    "\n",
    "As such 10 rows with missing data comprises less than 0.26% of the dataset and removing such a small amount or errorenous data should not affect our analysis significantly. \n",
    "Had the number been more significant the missing data would have had to been substituted."
   ]
  },
  {
   "cell_type": "markdown",
   "metadata": {},
   "source": [
    "# Removing error data"
   ]
  },
  {
   "cell_type": "code",
   "execution_count": 16,
   "metadata": {},
   "outputs": [
    {
     "data": {
      "text/html": [
       "<div>\n",
       "<style scoped>\n",
       "    .dataframe tbody tr th:only-of-type {\n",
       "        vertical-align: middle;\n",
       "    }\n",
       "\n",
       "    .dataframe tbody tr th {\n",
       "        vertical-align: top;\n",
       "    }\n",
       "\n",
       "    .dataframe thead th {\n",
       "        text-align: right;\n",
       "    }\n",
       "</style>\n",
       "<table border=\"1\" class=\"dataframe\">\n",
       "  <thead>\n",
       "    <tr style=\"text-align: right;\">\n",
       "      <th></th>\n",
       "      <th>sex</th>\n",
       "      <th>length</th>\n",
       "      <th>diameter</th>\n",
       "      <th>height</th>\n",
       "      <th>whole_weight</th>\n",
       "      <th>shucked_weight</th>\n",
       "      <th>viscera_weight</th>\n",
       "      <th>shell_weight</th>\n",
       "      <th>rings</th>\n",
       "    </tr>\n",
       "  </thead>\n",
       "  <tbody>\n",
       "  </tbody>\n",
       "</table>\n",
       "</div>"
      ],
      "text/plain": [
       "Empty DataFrame\n",
       "Columns: [sex, length, diameter, height, whole_weight, shucked_weight, viscera_weight, shell_weight, rings]\n",
       "Index: []"
      ]
     },
     "execution_count": 16,
     "metadata": {},
     "output_type": "execute_result"
    }
   ],
   "source": [
    "# deleting shucked weight > whole weight\n",
    "df.drop(df.index[(shucked_error) | (error_diameter) | (error_height) | (nan_error)], inplace=True)\n",
    "\n",
    "#verifying shucked > whole that records were dropped\n",
    "df[df['shucked_weight'] > df['whole_weight']]"
   ]
  },
  {
   "cell_type": "code",
   "execution_count": 17,
   "metadata": {},
   "outputs": [
    {
     "data": {
      "text/html": [
       "<div>\n",
       "<style scoped>\n",
       "    .dataframe tbody tr th:only-of-type {\n",
       "        vertical-align: middle;\n",
       "    }\n",
       "\n",
       "    .dataframe tbody tr th {\n",
       "        vertical-align: top;\n",
       "    }\n",
       "\n",
       "    .dataframe thead th {\n",
       "        text-align: right;\n",
       "    }\n",
       "</style>\n",
       "<table border=\"1\" class=\"dataframe\">\n",
       "  <thead>\n",
       "    <tr style=\"text-align: right;\">\n",
       "      <th></th>\n",
       "      <th>sex</th>\n",
       "      <th>length</th>\n",
       "      <th>diameter</th>\n",
       "      <th>height</th>\n",
       "      <th>whole_weight</th>\n",
       "      <th>shucked_weight</th>\n",
       "      <th>viscera_weight</th>\n",
       "      <th>shell_weight</th>\n",
       "      <th>rings</th>\n",
       "    </tr>\n",
       "  </thead>\n",
       "  <tbody>\n",
       "  </tbody>\n",
       "</table>\n",
       "</div>"
      ],
      "text/plain": [
       "Empty DataFrame\n",
       "Columns: [sex, length, diameter, height, whole_weight, shucked_weight, viscera_weight, shell_weight, rings]\n",
       "Index: []"
      ]
     },
     "execution_count": 17,
     "metadata": {},
     "output_type": "execute_result"
    }
   ],
   "source": [
    "# verifying NaN errors were deleted\n",
    "df[df.isnull().any(axis=1)]"
   ]
  },
  {
   "cell_type": "code",
   "execution_count": 18,
   "metadata": {},
   "outputs": [
    {
     "data": {
      "text/html": [
       "<div>\n",
       "<style scoped>\n",
       "    .dataframe tbody tr th:only-of-type {\n",
       "        vertical-align: middle;\n",
       "    }\n",
       "\n",
       "    .dataframe tbody tr th {\n",
       "        vertical-align: top;\n",
       "    }\n",
       "\n",
       "    .dataframe thead th {\n",
       "        text-align: right;\n",
       "    }\n",
       "</style>\n",
       "<table border=\"1\" class=\"dataframe\">\n",
       "  <thead>\n",
       "    <tr style=\"text-align: right;\">\n",
       "      <th></th>\n",
       "      <th>sex</th>\n",
       "      <th>length</th>\n",
       "      <th>diameter</th>\n",
       "      <th>height</th>\n",
       "      <th>whole_weight</th>\n",
       "      <th>shucked_weight</th>\n",
       "      <th>viscera_weight</th>\n",
       "      <th>shell_weight</th>\n",
       "      <th>rings</th>\n",
       "    </tr>\n",
       "  </thead>\n",
       "  <tbody>\n",
       "  </tbody>\n",
       "</table>\n",
       "</div>"
      ],
      "text/plain": [
       "Empty DataFrame\n",
       "Columns: [sex, length, diameter, height, whole_weight, shucked_weight, viscera_weight, shell_weight, rings]\n",
       "Index: []"
      ]
     },
     "execution_count": 18,
     "metadata": {},
     "output_type": "execute_result"
    }
   ],
   "source": [
    "#verifying diameter < 0 records were dropped\n",
    "df[df['diameter'] <= 0.0]"
   ]
  },
  {
   "cell_type": "code",
   "execution_count": 19,
   "metadata": {},
   "outputs": [
    {
     "data": {
      "text/html": [
       "<div>\n",
       "<style scoped>\n",
       "    .dataframe tbody tr th:only-of-type {\n",
       "        vertical-align: middle;\n",
       "    }\n",
       "\n",
       "    .dataframe tbody tr th {\n",
       "        vertical-align: top;\n",
       "    }\n",
       "\n",
       "    .dataframe thead th {\n",
       "        text-align: right;\n",
       "    }\n",
       "</style>\n",
       "<table border=\"1\" class=\"dataframe\">\n",
       "  <thead>\n",
       "    <tr style=\"text-align: right;\">\n",
       "      <th></th>\n",
       "      <th>sex</th>\n",
       "      <th>length</th>\n",
       "      <th>diameter</th>\n",
       "      <th>height</th>\n",
       "      <th>whole_weight</th>\n",
       "      <th>shucked_weight</th>\n",
       "      <th>viscera_weight</th>\n",
       "      <th>shell_weight</th>\n",
       "      <th>rings</th>\n",
       "    </tr>\n",
       "  </thead>\n",
       "  <tbody>\n",
       "  </tbody>\n",
       "</table>\n",
       "</div>"
      ],
      "text/plain": [
       "Empty DataFrame\n",
       "Columns: [sex, length, diameter, height, whole_weight, shucked_weight, viscera_weight, shell_weight, rings]\n",
       "Index: []"
      ]
     },
     "execution_count": 19,
     "metadata": {},
     "output_type": "execute_result"
    }
   ],
   "source": [
    "# verifying height <= 0 was dropped\n",
    "df[df['height'] <= 0.0]"
   ]
  },
  {
   "cell_type": "markdown",
   "metadata": {},
   "source": [
    "# Indentifying outliers\n",
    "## Box Plots"
   ]
  },
  {
   "cell_type": "code",
   "execution_count": 20,
   "metadata": {},
   "outputs": [
    {
     "data": {
      "image/png": "[encoded data removed]",
      "text/plain": [
       "<matplotlib.figure.Figure at 0xb8a99b0>"
      ]
     },
     "metadata": {},
     "output_type": "display_data"
    }
   ],
   "source": [
    "#df.boxplot(figsize=(16,16))\n",
    "sb.set(rc={'figure.figsize':(16,16)})\n",
    "ax=sb.boxplot(data=df)\n",
    "ax.set(xlabel='Attributes', ylabel='Scores', title=\"Box Plot For All Features\")\n",
    "plt.savefig(default_figure_out_path+'boxplot_all_features'+default_figure_ext)"
   ]
  },
  {
   "cell_type": "code",
   "execution_count": 21,
   "metadata": {},
   "outputs": [],
   "source": [
    "sb.set(rc={'figure.figsize':(11,8)})"
   ]
  },
  {
   "cell_type": "code",
   "execution_count": 22,
   "metadata": {},
   "outputs": [
    {
     "data": {
      "image/png": "[encoded data removed]",
      "text/plain": [
       "<matplotlib.figure.Figure at 0xb8cedd8>"
      ]
     },
     "metadata": {},
     "output_type": "display_data"
    }
   ],
   "source": [
    "df_ringless=df.drop('rings',  axis='columns')\n",
    "ax=sb.boxplot(data=df_ringless)\n",
    "ax.set(xlabel='Attributes', ylabel='Scores', title=\"Box Plot For Multiple Features\")\n",
    "plt.savefig(default_figure_out_path+'boxplot_all_features_but_rings'+default_figure_ext)"
   ]
  },
  {
   "cell_type": "code",
   "execution_count": 23,
   "metadata": {},
   "outputs": [
    {
     "data": {
      "image/png": "[encoded data removed]",
      "text/plain": [
       "<matplotlib.figure.Figure at 0xc0e8a90>"
      ]
     },
     "metadata": {},
     "output_type": "display_data"
    }
   ],
   "source": [
    "ax=sb.boxplot(data=df['rings'])\n",
    "ax.set(xlabel='rings', ylabel='rings value', title=\"Box Plot For Rings Feature\")\n",
    "plt.savefig(default_figure_out_path+'boxplot_rings'+default_figure_ext)"
   ]
  },
  {
   "cell_type": "code",
   "execution_count": 24,
   "metadata": {},
   "outputs": [
    {
     "data": {
      "text/plain": [
       "(8.0, 11.0, 3.0, 3.5, 15.5)"
      ]
     },
     "execution_count": 24,
     "metadata": {},
     "output_type": "execute_result"
    }
   ],
   "source": [
    "q1 = df['rings'].quantile(0.25)\n",
    "q3 = df['rings'].quantile(0.75)\n",
    "iqr = q3 - q1\n",
    "lw = q1 - 1.5 * iqr\n",
    "uw = q3 + 1.5 * iqr\n",
    "q1, q3, iqr, lw, uw"
   ]
  },
  {
   "cell_type": "code",
   "execution_count": 25,
   "metadata": {},
   "outputs": [
    {
     "data": {
      "text/plain": [
       "3888"
      ]
     },
     "execution_count": 25,
     "metadata": {},
     "output_type": "execute_result"
    }
   ],
   "source": [
    "outliers = (df['rings'] < lw) | (df['rings'] > uw) #6.67 % of the dataset\n",
    "pre_outliers_removal_df_count = df['sex'].count()\n",
    "df['rings'][~outliers].count()"
   ]
  },
  {
   "cell_type": "code",
   "execution_count": 26,
   "metadata": {},
   "outputs": [
    {
     "data": {
      "text/plain": [
       "(278, sex               3888\n",
       " length            3888\n",
       " diameter          3888\n",
       " height            3888\n",
       " whole_weight      3888\n",
       " shucked_weight    3888\n",
       " viscera_weight    3888\n",
       " shell_weight      3888\n",
       " rings             3888\n",
       " dtype: int64)"
      ]
     },
     "execution_count": 26,
     "metadata": {},
     "output_type": "execute_result"
    }
   ],
   "source": [
    "removed_rings = df['rings'][outliers]\n",
    "df.drop(df.index[outliers], inplace=True)\n",
    "removed_rings.count(), df.count()"
   ]
  },
  {
   "cell_type": "code",
   "execution_count": 27,
   "metadata": {},
   "outputs": [
    {
     "data": {
      "text/plain": [
       "31"
      ]
     },
     "execution_count": 27,
     "metadata": {},
     "output_type": "execute_result"
    }
   ],
   "source": [
    "q1 = df['whole_weight'].quantile(0.25)\n",
    "q3 = df['whole_weight'].quantile(0.75)\n",
    "iqr = q3 - q1\n",
    "lw = q1 - 1.5 * iqr\n",
    "\n",
    "uw = q3 + 1.5 * iqr\n",
    "#q1, q3, iqr, lw, uw\n",
    "outliers = (df['whole_weight'] < lw) | (df['whole_weight'] > uw)\n",
    "df['whole_weight'][outliers].count()"
   ]
  },
  {
   "cell_type": "code",
   "execution_count": 28,
   "metadata": {},
   "outputs": [
    {
     "data": {
      "text/plain": [
       "(31, sex               3857\n",
       " length            3857\n",
       " diameter          3857\n",
       " height            3857\n",
       " whole_weight      3857\n",
       " shucked_weight    3857\n",
       " viscera_weight    3857\n",
       " shell_weight      3857\n",
       " rings             3857\n",
       " dtype: int64)"
      ]
     },
     "execution_count": 28,
     "metadata": {},
     "output_type": "execute_result"
    }
   ],
   "source": [
    "removed_whole_weight = df['whole_weight'][outliers]\n",
    "df.drop(df.index[outliers], inplace=True)\n",
    "removed_whole_weight.count(),df.count()"
   ]
  },
  {
   "cell_type": "code",
   "execution_count": 29,
   "metadata": {},
   "outputs": [
    {
     "data": {
      "text/plain": [
       "30"
      ]
     },
     "execution_count": 29,
     "metadata": {},
     "output_type": "execute_result"
    }
   ],
   "source": [
    "q1 = df['length'].quantile(0.25)\n",
    "q3 = df['length'].quantile(0.75)\n",
    "iqr = q3 - q1\n",
    "lw = q1 - 1.5 * iqr\n",
    "\n",
    "uw = q3 + 1.5 * iqr\n",
    "#q1, q3, iqr, lw, uw\n",
    "outliers = (df['length'] < lw) | (df['length'] > uw)\n",
    "df['length'][outliers].count()"
   ]
  },
  {
   "cell_type": "code",
   "execution_count": 30,
   "metadata": {},
   "outputs": [
    {
     "data": {
      "text/plain": [
       "(30, sex               3827\n",
       " length            3827\n",
       " diameter          3827\n",
       " height            3827\n",
       " whole_weight      3827\n",
       " shucked_weight    3827\n",
       " viscera_weight    3827\n",
       " shell_weight      3827\n",
       " rings             3827\n",
       " dtype: int64)"
      ]
     },
     "execution_count": 30,
     "metadata": {},
     "output_type": "execute_result"
    }
   ],
   "source": [
    "removed_length = df['length'][outliers]\n",
    "df.drop(df.index[outliers], inplace=True)\n",
    "removed_length.count(), df.count()"
   ]
  },
  {
   "cell_type": "code",
   "execution_count": 31,
   "metadata": {},
   "outputs": [
    {
     "data": {
      "text/plain": [
       "7"
      ]
     },
     "execution_count": 31,
     "metadata": {},
     "output_type": "execute_result"
    }
   ],
   "source": [
    "q1 = df['diameter'].quantile(0.25)\n",
    "q3 = df['diameter'].quantile(0.75)\n",
    "iqr = q3 - q1\n",
    "lw = q1 - 1.5 * iqr\n",
    "\n",
    "uw = q3 + 1.5 * iqr\n",
    "#q1, q3, iqr, lw, uw\n",
    "outliers = (df['diameter'] < lw) | (df['diameter'] > uw)\n",
    "df['diameter'][outliers].count()"
   ]
  },
  {
   "cell_type": "code",
   "execution_count": 32,
   "metadata": {},
   "outputs": [
    {
     "data": {
      "text/plain": [
       "(7, sex               3820\n",
       " length            3820\n",
       " diameter          3820\n",
       " height            3820\n",
       " whole_weight      3820\n",
       " shucked_weight    3820\n",
       " viscera_weight    3820\n",
       " shell_weight      3820\n",
       " rings             3820\n",
       " dtype: int64)"
      ]
     },
     "execution_count": 32,
     "metadata": {},
     "output_type": "execute_result"
    }
   ],
   "source": [
    "removed_diameter = df['diameter'][outliers]\n",
    "df.drop(df.index[outliers], inplace=True)\n",
    "removed_diameter.count(), df.count()"
   ]
  },
  {
   "cell_type": "code",
   "execution_count": 33,
   "metadata": {},
   "outputs": [
    {
     "data": {
      "text/plain": [
       "3"
      ]
     },
     "execution_count": 33,
     "metadata": {},
     "output_type": "execute_result"
    }
   ],
   "source": [
    "q1 = df['height'].quantile(0.25)\n",
    "q3 = df['height'].quantile(0.75)\n",
    "iqr = q3 - q1\n",
    "lw = q1 - 1.5 * iqr\n",
    "\n",
    "uw = q3 + 1.5 * iqr\n",
    "#q1, q3, iqr, lw, uw\n",
    "outliers = (df['height'] < lw) | (df['height'] > uw)\n",
    "df['height'][outliers].count()"
   ]
  },
  {
   "cell_type": "code",
   "execution_count": 34,
   "metadata": {},
   "outputs": [
    {
     "data": {
      "text/plain": [
       "(3, sex               3817\n",
       " length            3817\n",
       " diameter          3817\n",
       " height            3817\n",
       " whole_weight      3817\n",
       " shucked_weight    3817\n",
       " viscera_weight    3817\n",
       " shell_weight      3817\n",
       " rings             3817\n",
       " dtype: int64)"
      ]
     },
     "execution_count": 34,
     "metadata": {},
     "output_type": "execute_result"
    }
   ],
   "source": [
    "removed_height = df['height'][outliers]\n",
    "df.drop(df.index[outliers], inplace=True)\n",
    "removed_height.count(), df.count()"
   ]
  },
  {
   "cell_type": "code",
   "execution_count": 35,
   "metadata": {},
   "outputs": [
    {
     "data": {
      "text/plain": [
       "20"
      ]
     },
     "execution_count": 35,
     "metadata": {},
     "output_type": "execute_result"
    }
   ],
   "source": [
    "q1 = df['shucked_weight'].quantile(0.25)\n",
    "q3 = df['shucked_weight'].quantile(0.75)\n",
    "iqr = q3 - q1\n",
    "lw = q1 - 1.5 * iqr\n",
    "\n",
    "uw = q3 + 1.5 * iqr\n",
    "#q1, q3, iqr, lw, uw\n",
    "outliers = (df['shucked_weight'] < lw) | (df['shucked_weight'] > uw)\n",
    "df['shucked_weight'][outliers].count()"
   ]
  },
  {
   "cell_type": "code",
   "execution_count": 36,
   "metadata": {},
   "outputs": [
    {
     "data": {
      "text/plain": [
       "(20, sex               3797\n",
       " length            3797\n",
       " diameter          3797\n",
       " height            3797\n",
       " whole_weight      3797\n",
       " shucked_weight    3797\n",
       " viscera_weight    3797\n",
       " shell_weight      3797\n",
       " rings             3797\n",
       " dtype: int64)"
      ]
     },
     "execution_count": 36,
     "metadata": {},
     "output_type": "execute_result"
    }
   ],
   "source": [
    "removed_shucked_weight = df['shucked_weight'][outliers]\n",
    "df.drop(df.index[outliers], inplace=True)\n",
    "removed_shucked_weight.count(), df.count()"
   ]
  },
  {
   "cell_type": "code",
   "execution_count": 37,
   "metadata": {},
   "outputs": [
    {
     "data": {
      "text/plain": [
       "16"
      ]
     },
     "execution_count": 37,
     "metadata": {},
     "output_type": "execute_result"
    }
   ],
   "source": [
    "q1 = df['viscera_weight'].quantile(0.25)\n",
    "q3 = df['viscera_weight'].quantile(0.75)\n",
    "iqr = q3 - q1\n",
    "lw = q1 - 1.5 * iqr\n",
    "\n",
    "uw = q3 + 1.5 * iqr\n",
    "#q1, q3, iqr, lw, uw\n",
    "outliers = (df['viscera_weight'] < lw) | (df['viscera_weight'] > uw)\n",
    "df['viscera_weight'][outliers].count()"
   ]
  },
  {
   "cell_type": "code",
   "execution_count": 38,
   "metadata": {},
   "outputs": [
    {
     "data": {
      "text/plain": [
       "(16, sex               3781\n",
       " length            3781\n",
       " diameter          3781\n",
       " height            3781\n",
       " whole_weight      3781\n",
       " shucked_weight    3781\n",
       " viscera_weight    3781\n",
       " shell_weight      3781\n",
       " rings             3781\n",
       " dtype: int64)"
      ]
     },
     "execution_count": 38,
     "metadata": {},
     "output_type": "execute_result"
    }
   ],
   "source": [
    "removed_viscera_weight = df['viscera_weight'][outliers]\n",
    "df.drop(df.index[outliers], inplace=True)\n",
    "removed_viscera_weight.count(), df.count()"
   ]
  },
  {
   "cell_type": "code",
   "execution_count": 39,
   "metadata": {},
   "outputs": [
    {
     "data": {
      "text/plain": [
       "11"
      ]
     },
     "execution_count": 39,
     "metadata": {},
     "output_type": "execute_result"
    }
   ],
   "source": [
    "q1 = df['shell_weight'].quantile(0.25)\n",
    "q3 = df['shell_weight'].quantile(0.75)\n",
    "iqr = q3 - q1\n",
    "lw = q1 - 1.5 * iqr\n",
    "\n",
    "uw = q3 + 1.5 * iqr\n",
    "#q1, q3, iqr, lw, uw\n",
    "outliers = (df['shell_weight'] < lw) | (df['shell_weight'] > uw)\n",
    "df['shell_weight'][outliers].count()"
   ]
  },
  {
   "cell_type": "code",
   "execution_count": 40,
   "metadata": {},
   "outputs": [
    {
     "data": {
      "text/plain": [
       "(11, sex               3770\n",
       " length            3770\n",
       " diameter          3770\n",
       " height            3770\n",
       " whole_weight      3770\n",
       " shucked_weight    3770\n",
       " viscera_weight    3770\n",
       " shell_weight      3770\n",
       " rings             3770\n",
       " dtype: int64)"
      ]
     },
     "execution_count": 40,
     "metadata": {},
     "output_type": "execute_result"
    }
   ],
   "source": [
    "removed_shell_weight = df['shell_weight'][outliers]\n",
    "df.drop(df.index[outliers], inplace=True)\n",
    "removed_shell_weight.count(), df.count()"
   ]
  },
  {
   "cell_type": "code",
   "execution_count": 41,
   "metadata": {},
   "outputs": [
    {
     "data": {
      "image/png": "[encoded data removed]",
      "text/plain": [
       "<matplotlib.figure.Figure at 0xbae3f60>"
      ]
     },
     "metadata": {},
     "output_type": "display_data"
    }
   ],
   "source": [
    "df_ringless=df.drop('rings',  axis='columns')\n",
    "ax=sb.boxplot(data=df_ringless)\n",
    "ax.set(xlabel='Attributes', ylabel='Scores', title=\"Cleaned Box Plot For Multiple Features\")\n",
    "plt.savefig(default_figure_out_path+'boxplot_all_features_cleaned'+default_figure_ext)"
   ]
  },
  {
   "cell_type": "code",
   "execution_count": 42,
   "metadata": {},
   "outputs": [
    {
     "data": {
      "image/png": "[encoded data removed]",
      "text/plain": [
       "<matplotlib.figure.Figure at 0xbadc390>"
      ]
     },
     "metadata": {},
     "output_type": "display_data"
    }
   ],
   "source": [
    "ax=sb.boxplot(data=df['rings'])\n",
    "ax.set(xlabel='rings', ylabel='rings value', title=\"Cleaned Box Plot For Rings Feature\")\n",
    "plt.savefig(default_figure_out_path+'boxplot_rings_cleaned'+default_figure_ext)"
   ]
  },
  {
   "cell_type": "code",
   "execution_count": 43,
   "metadata": {},
   "outputs": [
    {
     "name": "stdout",
     "output_type": "stream",
     "text": [
      "Total number of outliers removed from the dataset across all features: 396\n",
      "Accounts for the  9.505520883341333  of the dataset post-errorenous data cleanup\n"
     ]
    }
   ],
   "source": [
    "total_outliers = removed_rings.count()+removed_whole_weight.count()+removed_length.count()+removed_diameter.count()+removed_height.count()+removed_shucked_weight.count()+removed_viscera_weight.count()+removed_shell_weight.count()\n",
    "\n",
    "print('Total number of outliers removed from the dataset across all features:', total_outliers)\n",
    "percent_of_dataset = total_outliers/pre_outliers_removal_df_count *100\n",
    "print('Accounts for the ', percent_of_dataset, ' of the dataset post-errorenous data cleanup')"
   ]
  },
  {
   "cell_type": "code",
   "execution_count": 44,
   "metadata": {},
   "outputs": [],
   "source": [
    "# ax=sb.boxplot(data=df['viscera_weight'])\n",
    "# ax.set(xlabel='viscera weight', ylabel='viscera weight value', title=\"Box Plot For Viscera Weight\")\n",
    "\n",
    "# ax=sb.boxplot(data=df['shell_weight'])\n",
    "# ax.set(xlabel='shell weight', ylabel='shell weight value', title=\"Box Plot For Shell Weight\")\n",
    "\n",
    "# ax=sb.boxplot(data=df['shucked_weight'])\n",
    "# ax.set(xlabel='shucked weight', ylabel='shucked weight value', title=\"Box Plot For Shucked Weight\")\n",
    "# ax=sb.boxplot(data=df['whole_weight'])\n",
    "# ax.set(xlabel='whole weight', ylabel='whole weight value', title=\"Box Plot For Whole Weight\")\n",
    "# ax=sb.boxplot(data=df['height'])\n",
    "# ax.set(xlabel='height', ylabel='height value', title=\"Box Plot For Height\")\n",
    "# ax=sb.boxplot(data=df['diameter'])\n",
    "# ax.set(xlabel='diameter', ylabel='diameter value', title=\"Box Plot For Diameter\")\n",
    "# ax=sb.boxplot(data=df['length'])\n",
    "# ax.set(xlabel='length', ylabel='length value', title=\"Box Plot For Length\")"
   ]
  },
  {
   "cell_type": "markdown",
   "metadata": {},
   "source": [
    "# Indentifying feature correlation"
   ]
  },
  {
   "cell_type": "code",
   "execution_count": 45,
   "metadata": {},
   "outputs": [
    {
     "data": {
      "text/html": [
       "<div>\n",
       "<style scoped>\n",
       "    .dataframe tbody tr th:only-of-type {\n",
       "        vertical-align: middle;\n",
       "    }\n",
       "\n",
       "    .dataframe tbody tr th {\n",
       "        vertical-align: top;\n",
       "    }\n",
       "\n",
       "    .dataframe thead th {\n",
       "        text-align: right;\n",
       "    }\n",
       "</style>\n",
       "<table border=\"1\" class=\"dataframe\">\n",
       "  <thead>\n",
       "    <tr style=\"text-align: right;\">\n",
       "      <th></th>\n",
       "      <th>length</th>\n",
       "      <th>diameter</th>\n",
       "      <th>height</th>\n",
       "      <th>whole_weight</th>\n",
       "      <th>shucked_weight</th>\n",
       "      <th>viscera_weight</th>\n",
       "      <th>shell_weight</th>\n",
       "      <th>rings</th>\n",
       "    </tr>\n",
       "  </thead>\n",
       "  <tbody>\n",
       "    <tr>\n",
       "      <th>length</th>\n",
       "      <td>1.000000</td>\n",
       "      <td>0.986135</td>\n",
       "      <td>0.895720</td>\n",
       "      <td>0.940527</td>\n",
       "      <td>0.916886</td>\n",
       "      <td>0.914097</td>\n",
       "      <td>0.923939</td>\n",
       "      <td>0.590158</td>\n",
       "    </tr>\n",
       "    <tr>\n",
       "      <th>diameter</th>\n",
       "      <td>0.986135</td>\n",
       "      <td>1.000000</td>\n",
       "      <td>0.901184</td>\n",
       "      <td>0.938694</td>\n",
       "      <td>0.910587</td>\n",
       "      <td>0.908830</td>\n",
       "      <td>0.930177</td>\n",
       "      <td>0.607120</td>\n",
       "    </tr>\n",
       "    <tr>\n",
       "      <th>height</th>\n",
       "      <td>0.895720</td>\n",
       "      <td>0.901184</td>\n",
       "      <td>1.000000</td>\n",
       "      <td>0.894243</td>\n",
       "      <td>0.850334</td>\n",
       "      <td>0.874830</td>\n",
       "      <td>0.902273</td>\n",
       "      <td>0.618484</td>\n",
       "    </tr>\n",
       "    <tr>\n",
       "      <th>whole_weight</th>\n",
       "      <td>0.940527</td>\n",
       "      <td>0.938694</td>\n",
       "      <td>0.894243</td>\n",
       "      <td>1.000000</td>\n",
       "      <td>0.974949</td>\n",
       "      <td>0.966773</td>\n",
       "      <td>0.962484</td>\n",
       "      <td>0.561778</td>\n",
       "    </tr>\n",
       "    <tr>\n",
       "      <th>shucked_weight</th>\n",
       "      <td>0.916886</td>\n",
       "      <td>0.910587</td>\n",
       "      <td>0.850334</td>\n",
       "      <td>0.974949</td>\n",
       "      <td>1.000000</td>\n",
       "      <td>0.931820</td>\n",
       "      <td>0.905760</td>\n",
       "      <td>0.472681</td>\n",
       "    </tr>\n",
       "    <tr>\n",
       "      <th>viscera_weight</th>\n",
       "      <td>0.914097</td>\n",
       "      <td>0.908830</td>\n",
       "      <td>0.874830</td>\n",
       "      <td>0.966773</td>\n",
       "      <td>0.931820</td>\n",
       "      <td>1.000000</td>\n",
       "      <td>0.923066</td>\n",
       "      <td>0.547305</td>\n",
       "    </tr>\n",
       "    <tr>\n",
       "      <th>shell_weight</th>\n",
       "      <td>0.923939</td>\n",
       "      <td>0.930177</td>\n",
       "      <td>0.902273</td>\n",
       "      <td>0.962484</td>\n",
       "      <td>0.905760</td>\n",
       "      <td>0.923066</td>\n",
       "      <td>1.000000</td>\n",
       "      <td>0.625005</td>\n",
       "    </tr>\n",
       "    <tr>\n",
       "      <th>rings</th>\n",
       "      <td>0.590158</td>\n",
       "      <td>0.607120</td>\n",
       "      <td>0.618484</td>\n",
       "      <td>0.561778</td>\n",
       "      <td>0.472681</td>\n",
       "      <td>0.547305</td>\n",
       "      <td>0.625005</td>\n",
       "      <td>1.000000</td>\n",
       "    </tr>\n",
       "  </tbody>\n",
       "</table>\n",
       "</div>"
      ],
      "text/plain": [
       "                  length  diameter    height  whole_weight  shucked_weight  \\\n",
       "length          1.000000  0.986135  0.895720      0.940527        0.916886   \n",
       "diameter        0.986135  1.000000  0.901184      0.938694        0.910587   \n",
       "height          0.895720  0.901184  1.000000      0.894243        0.850334   \n",
       "whole_weight    0.940527  0.938694  0.894243      1.000000        0.974949   \n",
       "shucked_weight  0.916886  0.910587  0.850334      0.974949        1.000000   \n",
       "viscera_weight  0.914097  0.908830  0.874830      0.966773        0.931820   \n",
       "shell_weight    0.923939  0.930177  0.902273      0.962484        0.905760   \n",
       "rings           0.590158  0.607120  0.618484      0.561778        0.472681   \n",
       "\n",
       "                viscera_weight  shell_weight     rings  \n",
       "length                0.914097      0.923939  0.590158  \n",
       "diameter              0.908830      0.930177  0.607120  \n",
       "height                0.874830      0.902273  0.618484  \n",
       "whole_weight          0.966773      0.962484  0.561778  \n",
       "shucked_weight        0.931820      0.905760  0.472681  \n",
       "viscera_weight        1.000000      0.923066  0.547305  \n",
       "shell_weight          0.923066      1.000000  0.625005  \n",
       "rings                 0.547305      0.625005  1.000000  "
      ]
     },
     "execution_count": 45,
     "metadata": {},
     "output_type": "execute_result"
    }
   ],
   "source": [
    "# most basic way to show correlation between data. Exposes candidates for scatter matrices\n",
    "df.corr()"
   ]
  },
  {
   "cell_type": "code",
   "execution_count": 46,
   "metadata": {
    "scrolled": true
   },
   "outputs": [],
   "source": [
    "#pd.plotting.scatter_matrix(df, figsize=(12,16), s=100)"
   ]
  },
  {
   "cell_type": "code",
   "execution_count": 47,
   "metadata": {},
   "outputs": [
    {
     "ename": "KeyboardInterrupt",
     "evalue": "",
     "output_type": "error",
     "traceback": [
      "\u001b[1;31m---------------------------------------------------------------------------\u001b[0m",
      "\u001b[1;31mKeyboardInterrupt\u001b[0m                         Traceback (most recent call last)",
      "\u001b[1;32m<ipython-input-47-e8b04698e07d>\u001b[0m in \u001b[0;36m<module>\u001b[1;34m()\u001b[0m\n\u001b[0;32m      1\u001b[0m \u001b[1;31m#sb.pairplot(df[['sex', 'length', 'diameter', 'height', 'shell_weight', 'viscera_weight']], hue=\"sex\", palette=\"husl\", markers=[\"o\", \"s\", \"D\"])\u001b[0m\u001b[1;33m\u001b[0m\u001b[1;33m\u001b[0m\u001b[0m\n\u001b[1;32m----> 2\u001b[1;33m \u001b[0msb\u001b[0m\u001b[1;33m.\u001b[0m\u001b[0mpairplot\u001b[0m\u001b[1;33m(\u001b[0m\u001b[0mdf\u001b[0m\u001b[1;33m,\u001b[0m \u001b[0mhue\u001b[0m\u001b[1;33m=\u001b[0m\u001b[1;34m\"sex\"\u001b[0m\u001b[1;33m,\u001b[0m \u001b[0mpalette\u001b[0m\u001b[1;33m=\u001b[0m\u001b[1;34m\"husl\"\u001b[0m\u001b[1;33m,\u001b[0m \u001b[0mmarkers\u001b[0m\u001b[1;33m=\u001b[0m\u001b[1;33m[\u001b[0m\u001b[1;34m\"o\"\u001b[0m\u001b[1;33m,\u001b[0m \u001b[1;34m\"s\"\u001b[0m\u001b[1;33m,\u001b[0m \u001b[1;34m\"D\"\u001b[0m\u001b[1;33m]\u001b[0m\u001b[1;33m)\u001b[0m\u001b[1;33m\u001b[0m\u001b[0m\n\u001b[0m\u001b[0;32m      3\u001b[0m \u001b[0mplt\u001b[0m\u001b[1;33m.\u001b[0m\u001b[0msavefig\u001b[0m\u001b[1;33m(\u001b[0m\u001b[0mdefault_figure_out_path\u001b[0m\u001b[1;33m+\u001b[0m\u001b[1;34m'scatter_all_features'\u001b[0m\u001b[1;33m+\u001b[0m\u001b[0mdefault_figure_ext\u001b[0m\u001b[1;33m)\u001b[0m\u001b[1;33m\u001b[0m\u001b[0m\n",
      "\u001b[1;32mC:\\ProgramData\\Anaconda3\\lib\\site-packages\\seaborn\\axisgrid.py\u001b[0m in \u001b[0;36mpairplot\u001b[1;34m(data, hue, hue_order, palette, vars, x_vars, y_vars, kind, diag_kind, markers, size, aspect, dropna, plot_kws, diag_kws, grid_kws)\u001b[0m\n\u001b[0;32m   2071\u001b[0m     \u001b[1;32mif\u001b[0m \u001b[0mkind\u001b[0m \u001b[1;33m==\u001b[0m \u001b[1;34m\"scatter\"\u001b[0m\u001b[1;33m:\u001b[0m\u001b[1;33m\u001b[0m\u001b[0m\n\u001b[0;32m   2072\u001b[0m         \u001b[0mplot_kws\u001b[0m\u001b[1;33m.\u001b[0m\u001b[0msetdefault\u001b[0m\u001b[1;33m(\u001b[0m\u001b[1;34m\"edgecolor\"\u001b[0m\u001b[1;33m,\u001b[0m \u001b[1;34m\"white\"\u001b[0m\u001b[1;33m)\u001b[0m\u001b[1;33m\u001b[0m\u001b[0m\n\u001b[1;32m-> 2073\u001b[1;33m         \u001b[0mplotter\u001b[0m\u001b[1;33m(\u001b[0m\u001b[0mplt\u001b[0m\u001b[1;33m.\u001b[0m\u001b[0mscatter\u001b[0m\u001b[1;33m,\u001b[0m \u001b[1;33m**\u001b[0m\u001b[0mplot_kws\u001b[0m\u001b[1;33m)\u001b[0m\u001b[1;33m\u001b[0m\u001b[0m\n\u001b[0m\u001b[0;32m   2074\u001b[0m     \u001b[1;32melif\u001b[0m \u001b[0mkind\u001b[0m \u001b[1;33m==\u001b[0m \u001b[1;34m\"reg\"\u001b[0m\u001b[1;33m:\u001b[0m\u001b[1;33m\u001b[0m\u001b[0m\n\u001b[0;32m   2075\u001b[0m         \u001b[1;32mfrom\u001b[0m \u001b[1;33m.\u001b[0m\u001b[0mregression\u001b[0m \u001b[1;32mimport\u001b[0m \u001b[0mregplot\u001b[0m  \u001b[1;31m# Avoid circular import\u001b[0m\u001b[1;33m\u001b[0m\u001b[0m\n",
      "\u001b[1;32mC:\\ProgramData\\Anaconda3\\lib\\site-packages\\seaborn\\axisgrid.py\u001b[0m in \u001b[0;36mmap_offdiag\u001b[1;34m(self, func, **kwargs)\u001b[0m\n\u001b[0;32m   1491\u001b[0m         \"\"\"\n\u001b[0;32m   1492\u001b[0m \u001b[1;33m\u001b[0m\u001b[0m\n\u001b[1;32m-> 1493\u001b[1;33m         \u001b[0mself\u001b[0m\u001b[1;33m.\u001b[0m\u001b[0mmap_lower\u001b[0m\u001b[1;33m(\u001b[0m\u001b[0mfunc\u001b[0m\u001b[1;33m,\u001b[0m \u001b[1;33m**\u001b[0m\u001b[0mkwargs\u001b[0m\u001b[1;33m)\u001b[0m\u001b[1;33m\u001b[0m\u001b[0m\n\u001b[0m\u001b[0;32m   1494\u001b[0m         \u001b[0mself\u001b[0m\u001b[1;33m.\u001b[0m\u001b[0mmap_upper\u001b[0m\u001b[1;33m(\u001b[0m\u001b[0mfunc\u001b[0m\u001b[1;33m,\u001b[0m \u001b[1;33m**\u001b[0m\u001b[0mkwargs\u001b[0m\u001b[1;33m)\u001b[0m\u001b[1;33m\u001b[0m\u001b[0m\n\u001b[0;32m   1495\u001b[0m         \u001b[1;32mreturn\u001b[0m \u001b[0mself\u001b[0m\u001b[1;33m\u001b[0m\u001b[0m\n",
      "\u001b[1;32mC:\\ProgramData\\Anaconda3\\lib\\site-packages\\seaborn\\axisgrid.py\u001b[0m in \u001b[0;36mmap_lower\u001b[1;34m(self, func, **kwargs)\u001b[0m\n\u001b[0;32m   1423\u001b[0m                 \u001b[0mcolor\u001b[0m \u001b[1;33m=\u001b[0m \u001b[0mself\u001b[0m\u001b[1;33m.\u001b[0m\u001b[0mpalette\u001b[0m\u001b[1;33m[\u001b[0m\u001b[0mk\u001b[0m\u001b[1;33m]\u001b[0m \u001b[1;32mif\u001b[0m \u001b[0mkw_color\u001b[0m \u001b[1;32mis\u001b[0m \u001b[1;32mNone\u001b[0m \u001b[1;32melse\u001b[0m \u001b[0mkw_color\u001b[0m\u001b[1;33m\u001b[0m\u001b[0m\n\u001b[0;32m   1424\u001b[0m                 func(data_k[x_var], data_k[y_var], label=label_k,\n\u001b[1;32m-> 1425\u001b[1;33m                      color=color, **kwargs)\n\u001b[0m\u001b[0;32m   1426\u001b[0m \u001b[1;33m\u001b[0m\u001b[0m\n\u001b[0;32m   1427\u001b[0m             \u001b[0mself\u001b[0m\u001b[1;33m.\u001b[0m\u001b[0m_clean_axis\u001b[0m\u001b[1;33m(\u001b[0m\u001b[0max\u001b[0m\u001b[1;33m)\u001b[0m\u001b[1;33m\u001b[0m\u001b[0m\n",
      "\u001b[1;32mC:\\ProgramData\\Anaconda3\\lib\\site-packages\\matplotlib\\pyplot.py\u001b[0m in \u001b[0;36mscatter\u001b[1;34m(x, y, s, c, marker, cmap, norm, vmin, vmax, alpha, linewidths, verts, edgecolors, hold, data, **kwargs)\u001b[0m\n\u001b[0;32m   3376\u001b[0m                          \u001b[0mvmin\u001b[0m\u001b[1;33m=\u001b[0m\u001b[0mvmin\u001b[0m\u001b[1;33m,\u001b[0m \u001b[0mvmax\u001b[0m\u001b[1;33m=\u001b[0m\u001b[0mvmax\u001b[0m\u001b[1;33m,\u001b[0m \u001b[0malpha\u001b[0m\u001b[1;33m=\u001b[0m\u001b[0malpha\u001b[0m\u001b[1;33m,\u001b[0m\u001b[1;33m\u001b[0m\u001b[0m\n\u001b[0;32m   3377\u001b[0m                          \u001b[0mlinewidths\u001b[0m\u001b[1;33m=\u001b[0m\u001b[0mlinewidths\u001b[0m\u001b[1;33m,\u001b[0m \u001b[0mverts\u001b[0m\u001b[1;33m=\u001b[0m\u001b[0mverts\u001b[0m\u001b[1;33m,\u001b[0m\u001b[1;33m\u001b[0m\u001b[0m\n\u001b[1;32m-> 3378\u001b[1;33m                          edgecolors=edgecolors, data=data, **kwargs)\n\u001b[0m\u001b[0;32m   3379\u001b[0m     \u001b[1;32mfinally\u001b[0m\u001b[1;33m:\u001b[0m\u001b[1;33m\u001b[0m\u001b[0m\n\u001b[0;32m   3380\u001b[0m         \u001b[0max\u001b[0m\u001b[1;33m.\u001b[0m\u001b[0m_hold\u001b[0m \u001b[1;33m=\u001b[0m \u001b[0mwashold\u001b[0m\u001b[1;33m\u001b[0m\u001b[0m\n",
      "\u001b[1;32mC:\\ProgramData\\Anaconda3\\lib\\site-packages\\matplotlib\\__init__.py\u001b[0m in \u001b[0;36minner\u001b[1;34m(ax, *args, **kwargs)\u001b[0m\n\u001b[0;32m   1715\u001b[0m                     warnings.warn(msg % (label_namer, func.__name__),\n\u001b[0;32m   1716\u001b[0m                                   RuntimeWarning, stacklevel=2)\n\u001b[1;32m-> 1717\u001b[1;33m             \u001b[1;32mreturn\u001b[0m \u001b[0mfunc\u001b[0m\u001b[1;33m(\u001b[0m\u001b[0max\u001b[0m\u001b[1;33m,\u001b[0m \u001b[1;33m*\u001b[0m\u001b[0margs\u001b[0m\u001b[1;33m,\u001b[0m \u001b[1;33m**\u001b[0m\u001b[0mkwargs\u001b[0m\u001b[1;33m)\u001b[0m\u001b[1;33m\u001b[0m\u001b[0m\n\u001b[0m\u001b[0;32m   1718\u001b[0m         \u001b[0mpre_doc\u001b[0m \u001b[1;33m=\u001b[0m \u001b[0minner\u001b[0m\u001b[1;33m.\u001b[0m\u001b[0m__doc__\u001b[0m\u001b[1;33m\u001b[0m\u001b[0m\n\u001b[0;32m   1719\u001b[0m         \u001b[1;32mif\u001b[0m \u001b[0mpre_doc\u001b[0m \u001b[1;32mis\u001b[0m \u001b[1;32mNone\u001b[0m\u001b[1;33m:\u001b[0m\u001b[1;33m\u001b[0m\u001b[0m\n",
      "\u001b[1;32mC:\\ProgramData\\Anaconda3\\lib\\site-packages\\matplotlib\\axes\\_axes.py\u001b[0m in \u001b[0;36mscatter\u001b[1;34m(self, x, y, s, c, marker, cmap, norm, vmin, vmax, alpha, linewidths, verts, edgecolors, **kwargs)\u001b[0m\n\u001b[0;32m   4030\u001b[0m                 \u001b[0moffsets\u001b[0m\u001b[1;33m=\u001b[0m\u001b[0moffsets\u001b[0m\u001b[1;33m,\u001b[0m\u001b[1;33m\u001b[0m\u001b[0m\n\u001b[0;32m   4031\u001b[0m                 \u001b[0mtransOffset\u001b[0m\u001b[1;33m=\u001b[0m\u001b[0mkwargs\u001b[0m\u001b[1;33m.\u001b[0m\u001b[0mpop\u001b[0m\u001b[1;33m(\u001b[0m\u001b[1;34m'transform'\u001b[0m\u001b[1;33m,\u001b[0m \u001b[0mself\u001b[0m\u001b[1;33m.\u001b[0m\u001b[0mtransData\u001b[0m\u001b[1;33m)\u001b[0m\u001b[1;33m,\u001b[0m\u001b[1;33m\u001b[0m\u001b[0m\n\u001b[1;32m-> 4032\u001b[1;33m                 \u001b[0malpha\u001b[0m\u001b[1;33m=\u001b[0m\u001b[0malpha\u001b[0m\u001b[1;33m\u001b[0m\u001b[0m\n\u001b[0m\u001b[0;32m   4033\u001b[0m                 )\n\u001b[0;32m   4034\u001b[0m         \u001b[0mcollection\u001b[0m\u001b[1;33m.\u001b[0m\u001b[0mset_transform\u001b[0m\u001b[1;33m(\u001b[0m\u001b[0mmtransforms\u001b[0m\u001b[1;33m.\u001b[0m\u001b[0mIdentityTransform\u001b[0m\u001b[1;33m(\u001b[0m\u001b[1;33m)\u001b[0m\u001b[1;33m)\u001b[0m\u001b[1;33m\u001b[0m\u001b[0m\n",
      "\u001b[1;32mC:\\ProgramData\\Anaconda3\\lib\\site-packages\\matplotlib\\collections.py\u001b[0m in \u001b[0;36m__init__\u001b[1;34m(self, paths, sizes, **kwargs)\u001b[0m\n\u001b[0;32m    878\u001b[0m         \u001b[0mCollection\u001b[0m\u001b[1;33m.\u001b[0m\u001b[0m__init__\u001b[0m\u001b[1;33m(\u001b[0m\u001b[0mself\u001b[0m\u001b[1;33m,\u001b[0m \u001b[1;33m**\u001b[0m\u001b[0mkwargs\u001b[0m\u001b[1;33m)\u001b[0m\u001b[1;33m\u001b[0m\u001b[0m\n\u001b[0;32m    879\u001b[0m         \u001b[0mself\u001b[0m\u001b[1;33m.\u001b[0m\u001b[0mset_paths\u001b[0m\u001b[1;33m(\u001b[0m\u001b[0mpaths\u001b[0m\u001b[1;33m)\u001b[0m\u001b[1;33m\u001b[0m\u001b[0m\n\u001b[1;32m--> 880\u001b[1;33m         \u001b[0mself\u001b[0m\u001b[1;33m.\u001b[0m\u001b[0mset_sizes\u001b[0m\u001b[1;33m(\u001b[0m\u001b[0msizes\u001b[0m\u001b[1;33m)\u001b[0m\u001b[1;33m\u001b[0m\u001b[0m\n\u001b[0m\u001b[0;32m    881\u001b[0m         \u001b[0mself\u001b[0m\u001b[1;33m.\u001b[0m\u001b[0mstale\u001b[0m \u001b[1;33m=\u001b[0m \u001b[1;32mTrue\u001b[0m\u001b[1;33m\u001b[0m\u001b[0m\n\u001b[0;32m    882\u001b[0m \u001b[1;33m\u001b[0m\u001b[0m\n",
      "\u001b[1;32mC:\\ProgramData\\Anaconda3\\lib\\site-packages\\matplotlib\\collections.py\u001b[0m in \u001b[0;36mset_sizes\u001b[1;34m(self, sizes, dpi)\u001b[0m\n\u001b[0;32m    853\u001b[0m             \u001b[0mscale\u001b[0m \u001b[1;33m=\u001b[0m \u001b[0mnp\u001b[0m\u001b[1;33m.\u001b[0m\u001b[0msqrt\u001b[0m\u001b[1;33m(\u001b[0m\u001b[0mself\u001b[0m\u001b[1;33m.\u001b[0m\u001b[0m_sizes\u001b[0m\u001b[1;33m)\u001b[0m \u001b[1;33m*\u001b[0m \u001b[0mdpi\u001b[0m \u001b[1;33m/\u001b[0m \u001b[1;36m72.0\u001b[0m \u001b[1;33m*\u001b[0m \u001b[0mself\u001b[0m\u001b[1;33m.\u001b[0m\u001b[0m_factor\u001b[0m\u001b[1;33m\u001b[0m\u001b[0m\n\u001b[0;32m    854\u001b[0m             \u001b[0mself\u001b[0m\u001b[1;33m.\u001b[0m\u001b[0m_transforms\u001b[0m\u001b[1;33m[\u001b[0m\u001b[1;33m:\u001b[0m\u001b[1;33m,\u001b[0m \u001b[1;36m0\u001b[0m\u001b[1;33m,\u001b[0m \u001b[1;36m0\u001b[0m\u001b[1;33m]\u001b[0m \u001b[1;33m=\u001b[0m \u001b[0mscale\u001b[0m\u001b[1;33m\u001b[0m\u001b[0m\n\u001b[1;32m--> 855\u001b[1;33m             \u001b[0mself\u001b[0m\u001b[1;33m.\u001b[0m\u001b[0m_transforms\u001b[0m\u001b[1;33m[\u001b[0m\u001b[1;33m:\u001b[0m\u001b[1;33m,\u001b[0m \u001b[1;36m1\u001b[0m\u001b[1;33m,\u001b[0m \u001b[1;36m1\u001b[0m\u001b[1;33m]\u001b[0m \u001b[1;33m=\u001b[0m \u001b[0mscale\u001b[0m\u001b[1;33m\u001b[0m\u001b[0m\n\u001b[0m\u001b[0;32m    856\u001b[0m             \u001b[0mself\u001b[0m\u001b[1;33m.\u001b[0m\u001b[0m_transforms\u001b[0m\u001b[1;33m[\u001b[0m\u001b[1;33m:\u001b[0m\u001b[1;33m,\u001b[0m \u001b[1;36m2\u001b[0m\u001b[1;33m,\u001b[0m \u001b[1;36m2\u001b[0m\u001b[1;33m]\u001b[0m \u001b[1;33m=\u001b[0m \u001b[1;36m1.0\u001b[0m\u001b[1;33m\u001b[0m\u001b[0m\n\u001b[0;32m    857\u001b[0m         \u001b[0mself\u001b[0m\u001b[1;33m.\u001b[0m\u001b[0mstale\u001b[0m \u001b[1;33m=\u001b[0m \u001b[1;32mTrue\u001b[0m\u001b[1;33m\u001b[0m\u001b[0m\n",
      "\u001b[1;31mKeyboardInterrupt\u001b[0m: "
     ]
    },
    {
     "data": {
      "image/png": "[encoded data removed]",
      "text/plain": [
       "<matplotlib.figure.Figure at 0xbafc470>"
      ]
     },
     "metadata": {},
     "output_type": "display_data"
    }
   ],
   "source": [
    "#sb.pairplot(df[['sex', 'length', 'diameter', 'height', 'shell_weight', 'viscera_weight']], hue=\"sex\", palette=\"husl\", markers=[\"o\", \"s\", \"D\"])\n",
    "sb.pairplot(df, hue=\"sex\", palette=\"husl\", markers=[\"o\", \"s\", \"D\"])\n",
    "plt.savefig(default_figure_out_path+'scatter_all_features'+default_figure_ext)"
   ]
  },
  {
   "cell_type": "code",
   "execution_count": null,
   "metadata": {},
   "outputs": [],
   "source": [
    "sb.lmplot( x=\"shucked_weight\", y=\"whole_weight\", data=df, fit_reg=False, hue='sex', legend=True)\n",
    "\n",
    "#Move the legend to an empty part of the plot\n",
    "plt.legend(loc='lower right')\n",
    "plt.savefig(default_figure_out_path+'scatter_shucked_to_whole_weight'+default_figure_ext)"
   ]
  },
  {
   "cell_type": "markdown",
   "metadata": {},
   "source": [
    "# Linear Regression"
   ]
  },
  {
   "cell_type": "code",
   "execution_count": null,
   "metadata": {},
   "outputs": [],
   "source": [
    "df['sex'].unique()"
   ]
  },
  {
   "cell_type": "code",
   "execution_count": null,
   "metadata": {},
   "outputs": [],
   "source": [
    "# got to use on-hot encoding on sex column as linear regression model only works with numerical data\n",
    "encoded_sex = pd.get_dummies(df['sex'])\n",
    "df = pd.concat([df, encoded_sex], axis='columns')\n",
    "df = df.drop('sex', axis='columns')\n",
    "\n",
    "df.head()"
   ]
  },
  {
   "cell_type": "code",
   "execution_count": null,
   "metadata": {},
   "outputs": [],
   "source": [
    "# chosing rings as a feature to test as i appears to be least correlated from computations above (df.corr())\n",
    "X = df.drop('rings', axis='columns')  # X = features\n",
    "y = df['rings']                       # y = prediction target\n",
    "model = DummyRegressor()\n",
    "outer_cv = KFold(n_splits=5, shuffle=True, random_state=0)  # 5 fold cross validation\n",
    "y_pred = cross_val_predict(model, X, y, cv=outer_cv)        # Make predictions via cross validation\n",
    "\n",
    "print('Mean absolute error: %f' % mean_absolute_error(y, y_pred))\n",
    "print('Standard deviation of the error: %f' % (y - y_pred).std())\n",
    "\n",
    "ax = sb.distplot(y - y_pred, bins=10, kde=False)\n",
    "\n",
    "ax.set(\n",
    "    title='Distribution of errors for the dummy model',\n",
    "    xlabel='Error'\n",
    ");\n",
    "plt.savefig(default_figure_out_path+'distribution_of_errors_in_dummy_regression_5_folds'+default_figure_ext)"
   ]
  },
  {
   "cell_type": "code",
   "execution_count": null,
   "metadata": {},
   "outputs": [],
   "source": [
    "# checking if increasing the number of k-folds will change the values\n",
    "X = df.drop('rings', axis='columns')  # X = features\n",
    "y = df['rings']                       # y = prediction target\n",
    "model = DummyRegressor()\n",
    "outer_cv = KFold(n_splits=10, shuffle=True, random_state=0)  # 10 fold cross validation\n",
    "y_pred = cross_val_predict(model, X, y, cv=outer_cv)        # Make predictions via cross validation\n",
    "\n",
    "dummy_std=(y - y_pred).std()\n",
    "print('Mean absolute error: %f' % mean_absolute_error(y, y_pred))\n",
    "print('Standard deviation of the error: %f' % dummy_std)\n",
    "\n",
    "ax = sb.distplot(y - y_pred, bins=10, kde=False)\n",
    "\n",
    "ax.set(\n",
    "    title='Distribution of errors for the dummy model',\n",
    "    xlabel='Error'\n",
    ");\n",
    "plt.savefig(default_figure_out_path+'distribution_of_errors_in_dummy_regression_10_folds'+default_figure_ext)"
   ]
  },
  {
   "cell_type": "markdown",
   "metadata": {},
   "source": [
    "The best score to get out of a prediction, or regression, model is 0 as it would mean that the predicted and actual data matched up. The above graph we can observer that majority of the data is centered around 0, however at the same time significant portion of the dataset is significantly away from the 0 error value. \n",
    "Mean absolute error score is at almost 2 which means that the dummy model leaves room for improvement."
   ]
  },
  {
   "cell_type": "code",
   "execution_count": null,
   "metadata": {},
   "outputs": [],
   "source": [
    "# to compare dummy model with linear regression one, likes with likes need to be compared, so chosing rings feature for analysis again\n",
    "X = df.drop('rings', axis='columns')  # X = features\n",
    "y = df['rings']                       # y = prediction target\n",
    "\n",
    "model = LinearRegression(fit_intercept=True, normalize=False)  # Use least squares linear regression\n",
    "\n",
    "outer_cv = KFold(n_splits=5, shuffle=True, random_state=0)  # 5-fold cross validation\n",
    "y_pred = cross_val_predict(model, X, y, cv=outer_cv)        # Make predictions via cross validation\n",
    "\n",
    "linear_std = (y - y_pred).std()\n",
    "print('Mean absolute error: %f' % mean_absolute_error(y, y_pred))\n",
    "print('Standard deviation of the error: %f' % linear_std)\n",
    "\n",
    "ax = sb.distplot(y - y_pred, bins=10, kde=False)\n",
    "ax.set(\n",
    "    title='Distribution of errors for the linear regression model',\n",
    "    xlabel='Error'\n",
    ");\n",
    "#print(classification_report(y, y_pred))\n",
    "plt.savefig(default_figure_out_path+'distribution_of_errors_in_linear_regression'+default_figure_ext)"
   ]
  },
  {
   "cell_type": "code",
   "execution_count": null,
   "metadata": {},
   "outputs": [],
   "source": [
    "linear_std/dummy_std *100"
   ]
  },
  {
   "cell_type": "markdown",
   "metadata": {},
   "source": [
    "With the linear regression model graph above we have twice as many data points centered around 0 value as with dummy model. The mean absolute error is singificantly closer to 0 error rate as well. We see plainly that we've made improvemets to the model. What is also significant is that the dispersion of erro measured with standard deviation is improved on by 70% simply by changing the model."
   ]
  },
  {
   "cell_type": "markdown",
   "metadata": {},
   "source": [
    "# Decision Tree Regression"
   ]
  },
  {
   "cell_type": "code",
   "execution_count": null,
   "metadata": {},
   "outputs": [],
   "source": [
    "from sklearn import cross_validation\n",
    "train_X, test_X, train_y, test_y = cross_validation.train_test_split(X, y) # splits 75%/25% by default"
   ]
  },
  {
   "cell_type": "code",
   "execution_count": null,
   "metadata": {},
   "outputs": [],
   "source": [
    "from sklearn.tree import DecisionTreeRegressor\n",
    "# create an estimator, optionally specifying parameters\n",
    "model = DecisionTreeRegressor()\n",
    "# fit the estimator to the data\n",
    "model.fit(train_X, train_y)\n",
    "# apply the model to the test and training data\n",
    "predicted_test_y = model.predict(test_X)\n",
    "predicted_train_y = model.predict(train_X)"
   ]
  },
  {
   "cell_type": "code",
   "execution_count": null,
   "metadata": {},
   "outputs": [],
   "source": [
    "def scatter_y(true_y, predicted_y):\n",
    "    \"\"\"Scatter-plot the predicted vs true number of rings\n",
    "    \n",
    "    Plots:\n",
    "       * predicted vs true number of rings\n",
    "       * perfect agreement line\n",
    "       * +2/-2 number dotted lines\n",
    "\n",
    "    Returns the root mean square of the error\n",
    "    \"\"\"\n",
    "    fig, ax = plt.subplots(figsize=(8, 8))\n",
    "    ax.plot(true_y, predicted_y, '.k')\n",
    "    \n",
    "    ax.plot([0, 30], [0, 30], '--k')\n",
    "    ax.plot([0, 30], [2, 32], ':k')\n",
    "    ax.plot([2, 32], [0, 30], ':k')\n",
    "    \n",
    "    rms = (true_y - predicted_y).std()\n",
    "    \n",
    "    ax.text(25, 3,\n",
    "            \"Root Mean Square Error = %.2g\" % rms,\n",
    "            ha='right', va='bottom')\n",
    "\n",
    "    ax.set_xlim(0, 30)\n",
    "    ax.set_ylim(0, 30)\n",
    "    \n",
    "    ax.set_xlabel('True number of rings')\n",
    "    ax.set_ylabel('Predicted number of rings')\n",
    "    \n",
    "    return rms"
   ]
  },
  {
   "cell_type": "code",
   "execution_count": null,
   "metadata": {},
   "outputs": [],
   "source": [
    "scatter_y(train_y, predicted_train_y)\n",
    "plt.title(\"Training data\")\n",
    "scatter_y(test_y, predicted_test_y)\n",
    "plt.title(\"Test data\");"
   ]
  },
  {
   "cell_type": "code",
   "execution_count": null,
   "metadata": {},
   "outputs": [],
   "source": [
    "model = DecisionTreeRegressor(max_depth=10)\n",
    "# fit the estimator to the data\n",
    "model.fit(train_X, train_y)\n",
    "# apply the model to the test and train data\n",
    "predicted_test_y = model.predict(test_X)\n",
    "predicted_train_y = model.predict(train_X)\n",
    "scatter_y(train_y, predicted_train_y)\n",
    "plt.title(\"Training data\")\n",
    "rms_decision_tree = scatter_y(test_y, predicted_test_y)\n",
    "plt.title(\"Test data\");"
   ]
  },
  {
   "cell_type": "markdown",
   "metadata": {},
   "source": [
    "## Experiment 2\n",
    "### From labs with some param tweaks"
   ]
  },
  {
   "cell_type": "code",
   "execution_count": null,
   "metadata": {},
   "outputs": [],
   "source": [
    "\n",
    "\n",
    "pipeline = make_pipeline(\n",
    "    DummyClassifier(strategy='stratified', random_state=0)  # Use a stratified prediction strategy\n",
    ")\n",
    "\n",
    "outer_cv = StratifiedKFold(n_splits=5, shuffle=True, random_state=0)  # Stratified 5 fold cross validation\n",
    "y_pred = cross_val_predict(pipeline, X, y, cv=outer_cv)               # Make predictions via cross validation\n",
    "\n",
    "print(classification_report(y, y_pred))  # Print the classification report\n",
    "print('Mean absolute error: %f' % mean_absolute_error(y, y_pred))\n",
    "print('Standard deviation of the error: %f' % (y - y_pred).std())"
   ]
  },
  {
   "cell_type": "code",
   "execution_count": null,
   "metadata": {},
   "outputs": [],
   "source": [
    "from sklearn.tree import DecisionTreeClassifier\n",
    "pipeline = make_pipeline(\n",
    "    DecisionTreeClassifier(random_state=10) # Control randomness, so the lab works the same for everyone\n",
    ")\n",
    "\n",
    "# Build models for different values of criterion, min_samples_leaf and min_samples_split\n",
    "parameters = {\n",
    "    'decisiontreeclassifier__criterion': ['gini'],\n",
    "    'decisiontreeclassifier__min_samples_leaf': [92],\n",
    "    'decisiontreeclassifier__min_samples_split': [2]  # Min value is 2\n",
    "}\n",
    "\n",
    "# Use inner CV to select the best model\n",
    "inner_cv = StratifiedKFold(n_splits=7, shuffle=True, random_state=0)  # K = 5\n",
    "\n",
    "clf = GridSearchCV(pipeline, parameters, cv=inner_cv, n_jobs=-1)  # n_jobs=-1 uses all available CPUs = faster\n",
    "clf.fit(X, y)\n",
    "\n",
    "# Use outer CV to evaluate the error of the best model\n",
    "outer_cv = StratifiedKFold(n_splits=12, shuffle=True, random_state=0)  # K = 10, doesn't have to be the same\n",
    "y_pred = cross_val_predict(clf, X, y, cv=outer_cv)\n",
    "\n",
    "print(classification_report(y, y_pred))  # Print the classification report\n",
    "print('Mean absolute error: %f' % mean_absolute_error(y, y_pred))\n",
    "print('Standard deviation of the error: %f' % (y - y_pred).std())"
   ]
  },
  {
   "cell_type": "code",
   "execution_count": null,
   "metadata": {},
   "outputs": [],
   "source": [
    "# def svc_param_selection(X, y, nfolds): \n",
    "#     param_grid = {'decisiontreeclassifier__min_samples_split':range(2,1001,10),\n",
    "#                  'decisiontreeclassifier__min_samples_leaf': range(2,1001,10)}\n",
    "#     grid_search = GridSearchCV(pipeline, param_grid, n_jobs=-1, cv=nfolds)  # n_jobs=-1 uses all available CPUs = faster\n",
    "#     grid_search.fit(X, y)\n",
    "#     grid_search.best_params_\n",
    "#     return grid_search.best_params_\n",
    "\n",
    "# print(svc_param_selection(X, y, inner_cv))"
   ]
  },
  {
   "cell_type": "code",
   "execution_count": null,
   "metadata": {},
   "outputs": [],
   "source": [
    "# def svc_param_selection(X, y, nfolds):\n",
    "#     param_grid = {'decisiontreeclassifier__criterion': ['gini', 'entropy'],\n",
    "#                  'decisiontreeclassifier__min_samples_split':range(2,200,5),\n",
    "#                  'decisiontreeclassifier__min_samples_leaf': range(2,200,5),\n",
    "#                  'decisiontreeclassifier__max_leaf_nodes': range(2,200,5)}\n",
    "#     grid_search = GridSearchCV(pipeline, param_grid, n_jobs=-1, cv=nfolds)  # n_jobs=-1 uses all available CPUs = faster\n",
    "#     grid_search.fit(X, y)\n",
    "#     grid_search.best_params_\n",
    "#     return {'bestParams': grid_search.best_params_, 'bestScore': grid_search.best_score_}\n",
    "\n",
    "# print(svc_param_selection(X, y, inner_cv))"
   ]
  },
  {
   "cell_type": "code",
   "execution_count": null,
   "metadata": {},
   "outputs": [],
   "source": [
    "# from sklearn.tree import DecisionTreeClassifier\n",
    "# pipeline = make_pipeline(\n",
    "#     RandomTreeClassifier(random_state=10) # Control randomness, so the lab works the same for everyone\n",
    "# )\n",
    "\n",
    "# # Build models for different values of criterion, min_samples_leaf and min_samples_split\n",
    "# parameters = {\n",
    "#     'decisiontreeclassifier__criterion': ['gini', 'entropy'],\n",
    "#     'decisiontreeclassifier__min_samples_leaf': [1, 10, 20],\n",
    "#     'decisiontreeclassifier__min_samples_split': [2, 10, 20]  # Min value is 2\n",
    "# }\n",
    "\n",
    "# # Use inner CV to select the best model\n",
    "# inner_cv = StratifiedKFold(n_splits=7, shuffle=True, random_state=0)  # K = 5\n",
    "\n",
    "# clf = GridSearchCV(pipeline, parameters, cv=inner_cv, n_jobs=-1)  # n_jobs=-1 uses all available CPUs = faster\n",
    "# clf.fit(X, y)\n",
    "\n",
    "# # Use outer CV to evaluate the error of the best model\n",
    "# outer_cv = StratifiedKFold(n_splits=12, shuffle=True, random_state=0)  # K = 10, doesn't have to be the same\n",
    "# y_pred = cross_val_predict(clf, X, y, cv=outer_cv)\n",
    "\n",
    "# print(classification_report(y, y_pred))  # Print the classification report\n",
    "# print('Mean absolute error: %f' % mean_absolute_error(y, y_pred))\n",
    "# print('Standard deviation of the error: %f' % (y - y_pred).std())"
   ]
  },
  {
   "cell_type": "code",
   "execution_count": null,
   "metadata": {
    "scrolled": true
   },
   "outputs": [],
   "source": [
    "df.corr()"
   ]
  },
  {
   "cell_type": "code",
   "execution_count": null,
   "metadata": {},
   "outputs": [],
   "source": [
    "df_trimmed_weight = df.drop(['shucked_weight', 'viscera_weight', 'shell_weight', 'rings'],  axis='columns')\n",
    "df_trimmed_weight.head()"
   ]
  },
  {
   "cell_type": "code",
   "execution_count": null,
   "metadata": {},
   "outputs": [],
   "source": [
    "#checking balance between genders\n",
    "print('Female class count:',df[df['F'] == 1].count()[0], '\\nMale class count:',df[df['M'] == 1].count()[0], '\\nAdolescent class count:',df[df['I'] == 1].count()[0])"
   ]
  },
  {
   "cell_type": "code",
   "execution_count": null,
   "metadata": {},
   "outputs": [],
   "source": [
    "#rings prediction for females\n",
    "X = df[df['F'] == 1]  # X = features\n",
    "df_rings_gender=df.drop(['shucked_weight', 'viscera_weight', 'shell_weight','length','height', 'diameter', 'whole_weight', 'M', 'I', 'whole_weight'], axis='columns')\n",
    "df_rings_female=df_rings_gender[df_rings_gender['F'] == 1]\n",
    "\n",
    "df_rings_female.count()"
   ]
  },
  {
   "cell_type": "code",
   "execution_count": null,
   "metadata": {},
   "outputs": [],
   "source": [
    "# y=df_rings_female['rings']\n",
    "# inner_cv = StratifiedKFold(n_splits=2, shuffle=True, random_state=0)  # K = 5\n",
    "\n",
    "# def svc_param_selection(X, y, nfolds):\n",
    "#     param_grid = {'decisiontreeclassifier__criterion': ['gini', 'entropy'],\n",
    "#                  'decisiontreeclassifier__min_samples_split':range(2,200,20),\n",
    "#                  'decisiontreeclassifier__min_samples_leaf': range(2,200,5),\n",
    "#                  'decisiontreeclassifier__max_leaf_nodes': range(2,200,5)}\n",
    "#     grid_search = GridSearchCV(pipeline, param_grid, n_jobs=-1, cv=nfolds)  # n_jobs=-1 uses all available CPUs = faster\n",
    "#     grid_search.fit(X, y)\n",
    "#     grid_search.best_params_\n",
    "#     return {'bestParams': grid_search.best_params_, 'bestScore': grid_search.best_score_}\n",
    "\n",
    "# print(svc_param_selection(X, y, inner_cv))"
   ]
  },
  {
   "cell_type": "code",
   "execution_count": null,
   "metadata": {},
   "outputs": [],
   "source": []
  },
  {
   "cell_type": "code",
   "execution_count": null,
   "metadata": {},
   "outputs": [],
   "source": [
    "X = df.drop('rings', axis='columns')  # X = features\n",
    "y = df['rings']                       # y = prediction target\n",
    "\n",
    "algorithm = RandomForestRegressor(random_state=0)\n",
    "\n",
    "# Build models for different values of n_estimators, min_samples_leaf and min_samples_split\n",
    "parameters = {\n",
    "    'n_estimators': [2, 5, 10],\n",
    "    'min_samples_leaf': [1, 10, 20],\n",
    "    'min_samples_split': [2, 10, 20]  # Min value is 2\n",
    "}\n",
    "\n",
    "# Use inner CV to select the best model\n",
    "inner_cv = KFold(n_splits=5, shuffle=True, random_state=0)  # K = 5\n",
    "\n",
    "clf = GridSearchCV(algorithm, parameters, cv=inner_cv, n_jobs=-1)  # n_jobs=-1 uses all available CPUs = faster\n",
    "clf.fit(X, y)\n",
    "\n",
    "# Use outer CV to evaluate the error of the best model\n",
    "outer_cv = KFold(n_splits=10, shuffle=True, random_state=0)  # K = 10, doesn't have to be the same\n",
    "y_pred = cross_val_predict(clf, X, y, cv=outer_cv)\n",
    "\n",
    "# Print the results \n",
    "print('Mean absolute error: %f' % mean_absolute_error(y, y_pred))\n",
    "print('Standard deviation of the error: %f' % (y - y_pred).std())\n",
    "\n",
    "\n",
    "ax = (y - y_pred).hist()\n",
    "ax.set(\n",
    "    title='Distribution of errors for the random forest regression model',\n",
    "    xlabel='Error'\n",
    ");"
   ]
  },
  {
   "cell_type": "code",
   "execution_count": null,
   "metadata": {},
   "outputs": [],
   "source": [
    "algorithm.fit(X,  y_pred)\n",
    "algorithm.score(X, y_pred)"
   ]
  },
  {
   "cell_type": "code",
   "execution_count": null,
   "metadata": {},
   "outputs": [],
   "source": [
    "clf.score(X, y_pred)"
   ]
  },
  {
   "cell_type": "code",
   "execution_count": null,
   "metadata": {},
   "outputs": [],
   "source": []
  },
  {
   "cell_type": "code",
   "execution_count": null,
   "metadata": {},
   "outputs": [],
   "source": [
    "y_pred.view()"
   ]
  },
  {
   "cell_type": "code",
   "execution_count": null,
   "metadata": {},
   "outputs": [],
   "source": [
    "# df_y_pred = pd.DataFrame(y_pred, columns=['rings'])\n",
    "# df_y_pred.head()\n",
    "# (y.dtypes, y.tail())\n",
    "# (df_y_pred['rings'].dtypes, df_y_pred['rings'].tail())"
   ]
  },
  {
   "cell_type": "code",
   "execution_count": null,
   "metadata": {},
   "outputs": [],
   "source": [
    "y.values.length"
   ]
  },
  {
   "cell_type": "code",
   "execution_count": null,
   "metadata": {},
   "outputs": [],
   "source": [
    "#rings prediction for females\n",
    "X = df.drop(['M', 'I','F', 'rings'], axis='columns')  # X = features\n",
    "y=df['rings']"
   ]
  },
  {
   "cell_type": "code",
   "execution_count": null,
   "metadata": {},
   "outputs": [],
   "source": [
    "\n"
   ]
  },
  {
   "cell_type": "code",
   "execution_count": null,
   "metadata": {},
   "outputs": [],
   "source": [
    "# inner_cv = StratifiedKFold(n_splits=2, shuffle=True, random_state=0)  # K = 5\n",
    "\n",
    "# def svc_param_selection(X, y, nfolds):\n",
    "#     param_grid = {'decisiontreeclassifier__criterion': ['gini', 'entropy'],\n",
    "#                  'decisiontreeclassifier__min_samples_split':range(2,200,20),\n",
    "#                  'decisiontreeclassifier__min_samples_leaf': range(2,200,5),\n",
    "#                  'decisiontreeclassifier__max_leaf_nodes': range(2,200,5)}\n",
    "#     grid_search = GridSearchCV(pipeline, param_grid, n_jobs=-1, cv=nfolds)  # n_jobs=-1 uses all available CPUs = faster\n",
    "#     grid_search.fit(X, y)\n",
    "#     grid_search.best_params_\n",
    "#     return {'bestParams': grid_search.best_params_, 'bestScore': grid_search.best_score_}\n",
    "\n",
    "# print(svc_param_selection(X, y, inner_cv))"
   ]
  },
  {
   "cell_type": "code",
   "execution_count": null,
   "metadata": {},
   "outputs": [],
   "source": [
    "algorithm = RandomForestRegressor(random_state=0)\n",
    "\n",
    "# Build models for different values of n_estimators, min_samples_leaf and min_samples_split\n",
    "parameters = {\n",
    "    'n_estimators': [2, 5, 10],\n",
    "    'min_samples_leaf': [1, 10, 20],\n",
    "    'min_samples_split': [2, 10, 20]  # Min value is 2\n",
    "}\n",
    "\n",
    "# Use inner CV to select the best model\n",
    "inner_cv = KFold(n_splits=5, shuffle=True, random_state=0)  # K = 5\n",
    "\n",
    "clf = GridSearchCV(algorithm, parameters, cv=inner_cv, n_jobs=-1)  # n_jobs=-1 uses all available CPUs = faster\n",
    "clf.fit(X, y)\n",
    "\n",
    "# Use outer CV to evaluate the error of the best model\n",
    "outer_cv = KFold(n_splits=10, shuffle=True, random_state=0)  # K = 10, doesn't have to be the same\n",
    "y_pred = cross_val_predict(clf, X, y, cv=outer_cv)\n",
    "\n",
    "# Print the results \n",
    "print('Mean absolute error: %f' % mean_absolute_error(y, y_pred))\n",
    "print('Standard deviation of the error: %f' % (y - y_pred).std())\n",
    "\n",
    "\n",
    "ax = (y - y_pred).hist()\n",
    "ax.set(\n",
    "    title='Distribution of errors for the random forest regression model',\n",
    "    xlabel='Error'\n",
    ");"
   ]
  },
  {
   "cell_type": "code",
   "execution_count": null,
   "metadata": {},
   "outputs": [],
   "source": []
  }
 ],
 "metadata": {
  "kernelspec": {
   "display_name": "Python 3",
   "language": "python",
   "name": "python3"
  },
  "language_info": {
   "codemirror_mode": {
    "name": "ipython",
    "version": 3
   },
   "file_extension": ".py",
   "mimetype": "text/x-python",
   "name": "python",
   "nbconvert_exporter": "python",
   "pygments_lexer": "ipython3",
   "version": "3.6.4"
  }
 },
 "nbformat": 4,
 "nbformat_minor": 2
}
